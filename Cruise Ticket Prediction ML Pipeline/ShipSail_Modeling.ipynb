{
  "cells": [
    {
      "cell_type": "code",
      "execution_count": null,
      "id": "b3ef4183",
      "metadata": {},
      "outputs": [],
      "source": [
        "# Install packages\n",
        "!pip install xgboost\n",
        "!pip install -q imbalanced-learn"
      ]
    },
    {
      "cell_type": "code",
      "execution_count": 1,
      "id": "29d202e6-f10e-4dd8-b98d-542d7993208d",
      "metadata": {
        "ExecuteTime": {
          "end_time": "2023-09-17T03:35:58.825492+00:00",
          "start_time": "2023-09-17T03:35:58.159032+00:00"
        },
        "noteable": {
          "cell_type": "code",
          "output_collection_id": "852f45ab-3129-4c8f-b40f-e8a836a03418"
        }
      },
      "outputs": [],
      "source": [
        "# Importing the libraries\n",
        "import pandas as pd\n",
        "import numpy as np\n",
        "from sklearn.model_selection import train_test_split\n",
        "from sklearn.impute import KNNImputer\n",
        "from sklearn.ensemble import RandomForestClassifier\n",
        "from sklearn.metrics import accuracy_score, classification_report\n",
        "from sklearn.preprocessing import LabelEncoder\n",
        "from sklearn.linear_model import LogisticRegression\n",
        "from sklearn.preprocessing import RobustScaler\n",
        "from xgboost import XGBClassifier\n",
        "from imblearn.over_sampling import SMOTE\n",
        "from sklearn.model_selection import RandomizedSearchCV"
      ]
    },
    {
      "cell_type": "code",
      "execution_count": 2,
      "id": "a4307c67-2c4c-45b9-bfac-46cf721b0bf8",
      "metadata": {
        "ExecuteTime": {
          "end_time": "2023-09-17T03:36:00.039925+00:00",
          "start_time": "2023-09-17T03:35:58.831841+00:00"
        },
        "datalink": {
          "02f7a498-597b-4283-ad6e-5dd94e88dcf9": {
            "applied_filters": [],
            "dataframe_info": {
              "default_index_used": true,
              "orig_num_cols": 26,
              "orig_num_rows": 5,
              "orig_size_bytes": 1080,
              "truncated_num_cols": 26,
              "truncated_num_rows": 5,
              "truncated_size_bytes": 1080,
              "truncated_string_columns": []
            },
            "display_id": "02f7a498-597b-4283-ad6e-5dd94e88dcf9",
            "dx_settings": {
              "ALLOW_NOTEABLE_ATTRS": true,
              "COLUMN_SAMPLING_METHOD": "outer",
              "DB_LOCATION": ":memory:",
              "DEV_MODE": false,
              "DISPLAY_MAX_COLUMNS": 100,
              "DISPLAY_MAX_ROWS": 50000,
              "DISPLAY_MODE": "simple",
              "ENABLE_ASSIGNMENT": true,
              "ENABLE_DATALINK": true,
              "FLATTEN_COLUMN_VALUES": true,
              "FLATTEN_INDEX_VALUES": false,
              "GENERATE_DEX_METADATA": false,
              "HTML_TABLE_SCHEMA": false,
              "LOG_LEVEL": 30,
              "MAX_RENDER_SIZE_BYTES": 104857600,
              "MAX_STRING_LENGTH": 250,
              "NUM_PAST_SAMPLES_TRACKED": 3,
              "RANDOM_STATE": 12648430,
              "RESET_INDEX_VALUES": false,
              "ROW_SAMPLING_METHOD": "random",
              "SAMPLING_FACTOR": 0.1,
              "SAMPLING_METHOD": "random",
              "STRINGIFY_COLUMN_VALUES": true,
              "STRINGIFY_INDEX_VALUES": false
            },
            "sample_history": [],
            "sampling_time": "2023-09-16T19:17:26.925098",
            "user_variable_name": null,
            "variable_name": "unk_dataframe_75b1539280a341b1ba1787c813bfd496"
          },
          "04366a95-87ad-4fc4-b928-7498a8ae903f": {
            "applied_filters": [],
            "dataframe_info": {
              "default_index_used": true,
              "orig_num_cols": 26,
              "orig_num_rows": 5,
              "orig_size_bytes": 1080,
              "truncated_num_cols": 26,
              "truncated_num_rows": 5,
              "truncated_size_bytes": 1080,
              "truncated_string_columns": []
            },
            "display_id": "04366a95-87ad-4fc4-b928-7498a8ae903f",
            "dx_settings": {
              "ALLOW_NOTEABLE_ATTRS": true,
              "COLUMN_SAMPLING_METHOD": "outer",
              "DB_LOCATION": ":memory:",
              "DEV_MODE": false,
              "DISPLAY_MAX_COLUMNS": 100,
              "DISPLAY_MAX_ROWS": 50000,
              "DISPLAY_MODE": "simple",
              "ENABLE_ASSIGNMENT": true,
              "ENABLE_DATALINK": true,
              "FLATTEN_COLUMN_VALUES": true,
              "FLATTEN_INDEX_VALUES": false,
              "GENERATE_DEX_METADATA": false,
              "HTML_TABLE_SCHEMA": false,
              "LOG_LEVEL": 30,
              "MAX_RENDER_SIZE_BYTES": 104857600,
              "MAX_STRING_LENGTH": 250,
              "NUM_PAST_SAMPLES_TRACKED": 3,
              "RANDOM_STATE": 12648430,
              "RESET_INDEX_VALUES": false,
              "ROW_SAMPLING_METHOD": "random",
              "SAMPLING_FACTOR": 0.1,
              "SAMPLING_METHOD": "random",
              "STRINGIFY_COLUMN_VALUES": true,
              "STRINGIFY_INDEX_VALUES": false
            },
            "sample_history": [],
            "sampling_time": "2023-09-16T20:19:00.058082",
            "user_variable_name": null,
            "variable_name": "unk_dataframe_2f229450246d41b5a332bcb70dda191e"
          },
          "0b6ab00d-d1a5-45c2-b3c6-994bde222f09": {
            "applied_filters": [],
            "dataframe_info": {
              "default_index_used": true,
              "orig_num_cols": 26,
              "orig_num_rows": 5,
              "orig_size_bytes": 1080,
              "truncated_num_cols": 26,
              "truncated_num_rows": 5,
              "truncated_size_bytes": 1080,
              "truncated_string_columns": []
            },
            "display_id": "0b6ab00d-d1a5-45c2-b3c6-994bde222f09",
            "dx_settings": {
              "ALLOW_NOTEABLE_ATTRS": true,
              "COLUMN_SAMPLING_METHOD": "outer",
              "DB_LOCATION": ":memory:",
              "DEV_MODE": false,
              "DISPLAY_MAX_COLUMNS": 100,
              "DISPLAY_MAX_ROWS": 50000,
              "DISPLAY_MODE": "simple",
              "ENABLE_ASSIGNMENT": true,
              "ENABLE_DATALINK": true,
              "FLATTEN_COLUMN_VALUES": true,
              "FLATTEN_INDEX_VALUES": false,
              "GENERATE_DEX_METADATA": false,
              "HTML_TABLE_SCHEMA": false,
              "LOG_LEVEL": 30,
              "MAX_RENDER_SIZE_BYTES": 104857600,
              "MAX_STRING_LENGTH": 250,
              "NUM_PAST_SAMPLES_TRACKED": 3,
              "RANDOM_STATE": 12648430,
              "RESET_INDEX_VALUES": false,
              "ROW_SAMPLING_METHOD": "random",
              "SAMPLING_FACTOR": 0.1,
              "SAMPLING_METHOD": "random",
              "STRINGIFY_COLUMN_VALUES": true,
              "STRINGIFY_INDEX_VALUES": false
            },
            "sample_history": [],
            "sampling_time": "2023-09-16T17:20:40.839967",
            "user_variable_name": null,
            "variable_name": "unk_dataframe_98aaf95f36db473d8ab75a4d5c42468d"
          },
          "23656fa5-7561-4ff7-9f98-1bd6ef4fba56": {
            "applied_filters": [],
            "dataframe_info": {
              "default_index_used": true,
              "orig_num_cols": 27,
              "orig_num_rows": 5,
              "orig_size_bytes": 1120,
              "truncated_num_cols": 27,
              "truncated_num_rows": 5,
              "truncated_size_bytes": 1120,
              "truncated_string_columns": []
            },
            "display_id": "23656fa5-7561-4ff7-9f98-1bd6ef4fba56",
            "dx_settings": {
              "ALLOW_NOTEABLE_ATTRS": true,
              "COLUMN_SAMPLING_METHOD": "outer",
              "DB_LOCATION": ":memory:",
              "DEV_MODE": false,
              "DISPLAY_MAX_COLUMNS": 100,
              "DISPLAY_MAX_ROWS": 50000,
              "DISPLAY_MODE": "simple",
              "ENABLE_ASSIGNMENT": true,
              "ENABLE_DATALINK": true,
              "FLATTEN_COLUMN_VALUES": true,
              "FLATTEN_INDEX_VALUES": false,
              "GENERATE_DEX_METADATA": false,
              "HTML_TABLE_SCHEMA": false,
              "LOG_LEVEL": 30,
              "MAX_RENDER_SIZE_BYTES": 104857600,
              "MAX_STRING_LENGTH": 250,
              "NUM_PAST_SAMPLES_TRACKED": 3,
              "RANDOM_STATE": 12648430,
              "RESET_INDEX_VALUES": false,
              "ROW_SAMPLING_METHOD": "random",
              "SAMPLING_FACTOR": 0.1,
              "SAMPLING_METHOD": "random",
              "STRINGIFY_COLUMN_VALUES": true,
              "STRINGIFY_INDEX_VALUES": false
            },
            "sample_history": [],
            "sampling_time": "2023-09-16T06:00:23.974705",
            "user_variable_name": null,
            "variable_name": "unk_dataframe_4d1e6623b5194d368de6465e57a5ce51"
          },
          "2d43b700-9c26-49c0-ba18-341cfe053bf1": {
            "applied_filters": [],
            "dataframe_info": {
              "default_index_used": true,
              "orig_num_cols": 26,
              "orig_num_rows": 5,
              "orig_size_bytes": 1080,
              "truncated_num_cols": 26,
              "truncated_num_rows": 5,
              "truncated_size_bytes": 1080,
              "truncated_string_columns": []
            },
            "display_id": "2d43b700-9c26-49c0-ba18-341cfe053bf1",
            "dx_settings": {
              "ALLOW_NOTEABLE_ATTRS": true,
              "COLUMN_SAMPLING_METHOD": "outer",
              "DB_LOCATION": ":memory:",
              "DEV_MODE": false,
              "DISPLAY_MAX_COLUMNS": 100,
              "DISPLAY_MAX_ROWS": 50000,
              "DISPLAY_MODE": "simple",
              "ENABLE_ASSIGNMENT": true,
              "ENABLE_DATALINK": true,
              "FLATTEN_COLUMN_VALUES": true,
              "FLATTEN_INDEX_VALUES": false,
              "GENERATE_DEX_METADATA": false,
              "HTML_TABLE_SCHEMA": false,
              "LOG_LEVEL": 30,
              "MAX_RENDER_SIZE_BYTES": 104857600,
              "MAX_STRING_LENGTH": 250,
              "NUM_PAST_SAMPLES_TRACKED": 3,
              "RANDOM_STATE": 12648430,
              "RESET_INDEX_VALUES": false,
              "ROW_SAMPLING_METHOD": "random",
              "SAMPLING_FACTOR": 0.1,
              "SAMPLING_METHOD": "random",
              "STRINGIFY_COLUMN_VALUES": true,
              "STRINGIFY_INDEX_VALUES": false
            },
            "sample_history": [],
            "sampling_time": "2023-09-16T17:39:17.520907",
            "user_variable_name": null,
            "variable_name": "unk_dataframe_bb5337f4ba5744e2816a25b8d05c7664"
          },
          "3867fc70-31a4-49c3-9362-fc18683edd53": {
            "applied_filters": [],
            "dataframe_info": {
              "default_index_used": true,
              "orig_num_cols": 26,
              "orig_num_rows": 5,
              "orig_size_bytes": 1080,
              "truncated_num_cols": 26,
              "truncated_num_rows": 5,
              "truncated_size_bytes": 1080,
              "truncated_string_columns": []
            },
            "display_id": "3867fc70-31a4-49c3-9362-fc18683edd53",
            "dx_settings": {
              "ALLOW_NOTEABLE_ATTRS": true,
              "COLUMN_SAMPLING_METHOD": "outer",
              "DB_LOCATION": ":memory:",
              "DEV_MODE": false,
              "DISPLAY_MAX_COLUMNS": 100,
              "DISPLAY_MAX_ROWS": 50000,
              "DISPLAY_MODE": "simple",
              "ENABLE_ASSIGNMENT": true,
              "ENABLE_DATALINK": true,
              "FLATTEN_COLUMN_VALUES": true,
              "FLATTEN_INDEX_VALUES": false,
              "GENERATE_DEX_METADATA": false,
              "HTML_TABLE_SCHEMA": false,
              "LOG_LEVEL": 30,
              "MAX_RENDER_SIZE_BYTES": 104857600,
              "MAX_STRING_LENGTH": 250,
              "NUM_PAST_SAMPLES_TRACKED": 3,
              "RANDOM_STATE": 12648430,
              "RESET_INDEX_VALUES": false,
              "ROW_SAMPLING_METHOD": "random",
              "SAMPLING_FACTOR": 0.1,
              "SAMPLING_METHOD": "random",
              "STRINGIFY_COLUMN_VALUES": true,
              "STRINGIFY_INDEX_VALUES": false
            },
            "sample_history": [],
            "sampling_time": "2023-09-17T03:35:59.871842",
            "user_variable_name": null,
            "variable_name": "unk_dataframe_2383d3c102da495eb4a899aa78029e10"
          },
          "469c2fde-40d2-4454-89c2-43d1a50d259d": {
            "applied_filters": [],
            "dataframe_info": {
              "default_index_used": true,
              "orig_num_cols": 26,
              "orig_num_rows": 5,
              "orig_size_bytes": 1080,
              "truncated_num_cols": 26,
              "truncated_num_rows": 5,
              "truncated_size_bytes": 1080,
              "truncated_string_columns": []
            },
            "display_id": "469c2fde-40d2-4454-89c2-43d1a50d259d",
            "dx_settings": {
              "ALLOW_NOTEABLE_ATTRS": true,
              "COLUMN_SAMPLING_METHOD": "outer",
              "DB_LOCATION": ":memory:",
              "DEV_MODE": false,
              "DISPLAY_MAX_COLUMNS": 100,
              "DISPLAY_MAX_ROWS": 50000,
              "DISPLAY_MODE": "simple",
              "ENABLE_ASSIGNMENT": true,
              "ENABLE_DATALINK": true,
              "FLATTEN_COLUMN_VALUES": true,
              "FLATTEN_INDEX_VALUES": false,
              "GENERATE_DEX_METADATA": false,
              "HTML_TABLE_SCHEMA": false,
              "LOG_LEVEL": 30,
              "MAX_RENDER_SIZE_BYTES": 104857600,
              "MAX_STRING_LENGTH": 250,
              "NUM_PAST_SAMPLES_TRACKED": 3,
              "RANDOM_STATE": 12648430,
              "RESET_INDEX_VALUES": false,
              "ROW_SAMPLING_METHOD": "random",
              "SAMPLING_FACTOR": 0.1,
              "SAMPLING_METHOD": "random",
              "STRINGIFY_COLUMN_VALUES": true,
              "STRINGIFY_INDEX_VALUES": false
            },
            "sample_history": [],
            "sampling_time": "2023-09-16T19:19:52.876931",
            "user_variable_name": null,
            "variable_name": "unk_dataframe_f28371784a3f4f94be924ba793c09fba"
          },
          "5194fdd6-fde1-4816-b736-d45719632b13": {
            "applied_filters": [],
            "dataframe_info": {
              "default_index_used": true,
              "orig_num_cols": 26,
              "orig_num_rows": 5,
              "orig_size_bytes": 1080,
              "truncated_num_cols": 26,
              "truncated_num_rows": 5,
              "truncated_size_bytes": 1080,
              "truncated_string_columns": []
            },
            "display_id": "5194fdd6-fde1-4816-b736-d45719632b13",
            "dx_settings": {
              "ALLOW_NOTEABLE_ATTRS": true,
              "COLUMN_SAMPLING_METHOD": "outer",
              "DB_LOCATION": ":memory:",
              "DEV_MODE": false,
              "DISPLAY_MAX_COLUMNS": 100,
              "DISPLAY_MAX_ROWS": 50000,
              "DISPLAY_MODE": "simple",
              "ENABLE_ASSIGNMENT": true,
              "ENABLE_DATALINK": true,
              "FLATTEN_COLUMN_VALUES": true,
              "FLATTEN_INDEX_VALUES": false,
              "GENERATE_DEX_METADATA": false,
              "HTML_TABLE_SCHEMA": false,
              "LOG_LEVEL": 30,
              "MAX_RENDER_SIZE_BYTES": 104857600,
              "MAX_STRING_LENGTH": 250,
              "NUM_PAST_SAMPLES_TRACKED": 3,
              "RANDOM_STATE": 12648430,
              "RESET_INDEX_VALUES": false,
              "ROW_SAMPLING_METHOD": "random",
              "SAMPLING_FACTOR": 0.1,
              "SAMPLING_METHOD": "random",
              "STRINGIFY_COLUMN_VALUES": true,
              "STRINGIFY_INDEX_VALUES": false
            },
            "sample_history": [],
            "sampling_time": "2023-09-16T20:31:52.953179",
            "user_variable_name": null,
            "variable_name": "unk_dataframe_f177818c9add47c18d502af0ed891354"
          },
          "c3d97b8c-b0ca-4342-b35e-44359d763fd9": {
            "applied_filters": [],
            "dataframe_info": {
              "default_index_used": true,
              "orig_num_cols": 27,
              "orig_num_rows": 5,
              "orig_size_bytes": 1120,
              "truncated_num_cols": 27,
              "truncated_num_rows": 5,
              "truncated_size_bytes": 1120,
              "truncated_string_columns": []
            },
            "display_id": "c3d97b8c-b0ca-4342-b35e-44359d763fd9",
            "dx_settings": {
              "ALLOW_NOTEABLE_ATTRS": true,
              "COLUMN_SAMPLING_METHOD": "outer",
              "DB_LOCATION": ":memory:",
              "DEV_MODE": false,
              "DISPLAY_MAX_COLUMNS": 100,
              "DISPLAY_MAX_ROWS": 50000,
              "DISPLAY_MODE": "simple",
              "ENABLE_ASSIGNMENT": true,
              "ENABLE_DATALINK": true,
              "FLATTEN_COLUMN_VALUES": true,
              "FLATTEN_INDEX_VALUES": false,
              "GENERATE_DEX_METADATA": false,
              "HTML_TABLE_SCHEMA": false,
              "LOG_LEVEL": 30,
              "MAX_RENDER_SIZE_BYTES": 104857600,
              "MAX_STRING_LENGTH": 250,
              "NUM_PAST_SAMPLES_TRACKED": 3,
              "RANDOM_STATE": 12648430,
              "RESET_INDEX_VALUES": false,
              "ROW_SAMPLING_METHOD": "random",
              "SAMPLING_FACTOR": 0.1,
              "SAMPLING_METHOD": "random",
              "STRINGIFY_COLUMN_VALUES": true,
              "STRINGIFY_INDEX_VALUES": false
            },
            "sample_history": [],
            "sampling_time": "2023-09-16T06:00:08.072890",
            "user_variable_name": null,
            "variable_name": "unk_dataframe_6f5d188ee60441b5a4cfcc2ac5844782"
          },
          "d0d14e7f-9191-4855-848a-dc131996831d": {
            "applied_filters": [],
            "dataframe_info": {
              "default_index_used": true,
              "orig_num_cols": 27,
              "orig_num_rows": 5,
              "orig_size_bytes": 1120,
              "truncated_num_cols": 27,
              "truncated_num_rows": 5,
              "truncated_size_bytes": 1120,
              "truncated_string_columns": []
            },
            "display_id": "d0d14e7f-9191-4855-848a-dc131996831d",
            "dx_settings": {
              "ALLOW_NOTEABLE_ATTRS": true,
              "COLUMN_SAMPLING_METHOD": "outer",
              "DB_LOCATION": ":memory:",
              "DEV_MODE": false,
              "DISPLAY_MAX_COLUMNS": 100,
              "DISPLAY_MAX_ROWS": 50000,
              "DISPLAY_MODE": "simple",
              "ENABLE_ASSIGNMENT": true,
              "ENABLE_DATALINK": true,
              "FLATTEN_COLUMN_VALUES": true,
              "FLATTEN_INDEX_VALUES": false,
              "GENERATE_DEX_METADATA": false,
              "HTML_TABLE_SCHEMA": false,
              "LOG_LEVEL": 30,
              "MAX_RENDER_SIZE_BYTES": 104857600,
              "MAX_STRING_LENGTH": 250,
              "NUM_PAST_SAMPLES_TRACKED": 3,
              "RANDOM_STATE": 12648430,
              "RESET_INDEX_VALUES": false,
              "ROW_SAMPLING_METHOD": "random",
              "SAMPLING_FACTOR": 0.1,
              "SAMPLING_METHOD": "random",
              "STRINGIFY_COLUMN_VALUES": true,
              "STRINGIFY_INDEX_VALUES": false
            },
            "sample_history": [],
            "sampling_time": "2023-09-16T16:57:06.192917",
            "user_variable_name": null,
            "variable_name": "unk_dataframe_7f918a8797e14a2492f1271c0143d4e6"
          },
          "d4dd8039-6923-4e72-9d04-bbc3c569d64f": {
            "applied_filters": [],
            "dataframe_info": {
              "default_index_used": true,
              "orig_num_cols": 26,
              "orig_num_rows": 5,
              "orig_size_bytes": 1080,
              "truncated_num_cols": 26,
              "truncated_num_rows": 5,
              "truncated_size_bytes": 1080,
              "truncated_string_columns": []
            },
            "display_id": "d4dd8039-6923-4e72-9d04-bbc3c569d64f",
            "dx_settings": {
              "ALLOW_NOTEABLE_ATTRS": true,
              "COLUMN_SAMPLING_METHOD": "outer",
              "DB_LOCATION": ":memory:",
              "DEV_MODE": false,
              "DISPLAY_MAX_COLUMNS": 100,
              "DISPLAY_MAX_ROWS": 50000,
              "DISPLAY_MODE": "simple",
              "ENABLE_ASSIGNMENT": true,
              "ENABLE_DATALINK": true,
              "FLATTEN_COLUMN_VALUES": true,
              "FLATTEN_INDEX_VALUES": false,
              "GENERATE_DEX_METADATA": false,
              "HTML_TABLE_SCHEMA": false,
              "LOG_LEVEL": 30,
              "MAX_RENDER_SIZE_BYTES": 104857600,
              "MAX_STRING_LENGTH": 250,
              "NUM_PAST_SAMPLES_TRACKED": 3,
              "RANDOM_STATE": 12648430,
              "RESET_INDEX_VALUES": false,
              "ROW_SAMPLING_METHOD": "random",
              "SAMPLING_FACTOR": 0.1,
              "SAMPLING_METHOD": "random",
              "STRINGIFY_COLUMN_VALUES": true,
              "STRINGIFY_INDEX_VALUES": false
            },
            "sample_history": [],
            "sampling_time": "2023-09-16T17:51:07.422845",
            "user_variable_name": null,
            "variable_name": "unk_dataframe_3e8d0f93aeaa46e0b5edb66c9952ccf3"
          },
          "d977ee8d-f214-43f4-90dc-ac4ddeaf27cf": {
            "applied_filters": [],
            "dataframe_info": {
              "default_index_used": true,
              "orig_num_cols": 26,
              "orig_num_rows": 5,
              "orig_size_bytes": 1080,
              "truncated_num_cols": 26,
              "truncated_num_rows": 5,
              "truncated_size_bytes": 1080,
              "truncated_string_columns": []
            },
            "display_id": "d977ee8d-f214-43f4-90dc-ac4ddeaf27cf",
            "dx_settings": {
              "ALLOW_NOTEABLE_ATTRS": true,
              "COLUMN_SAMPLING_METHOD": "outer",
              "DB_LOCATION": ":memory:",
              "DEV_MODE": false,
              "DISPLAY_MAX_COLUMNS": 100,
              "DISPLAY_MAX_ROWS": 50000,
              "DISPLAY_MODE": "simple",
              "ENABLE_ASSIGNMENT": true,
              "ENABLE_DATALINK": true,
              "FLATTEN_COLUMN_VALUES": true,
              "FLATTEN_INDEX_VALUES": false,
              "GENERATE_DEX_METADATA": false,
              "HTML_TABLE_SCHEMA": false,
              "LOG_LEVEL": 30,
              "MAX_RENDER_SIZE_BYTES": 104857600,
              "MAX_STRING_LENGTH": 250,
              "NUM_PAST_SAMPLES_TRACKED": 3,
              "RANDOM_STATE": 12648430,
              "RESET_INDEX_VALUES": false,
              "ROW_SAMPLING_METHOD": "random",
              "SAMPLING_FACTOR": 0.1,
              "SAMPLING_METHOD": "random",
              "STRINGIFY_COLUMN_VALUES": true,
              "STRINGIFY_INDEX_VALUES": false
            },
            "sample_history": [],
            "sampling_time": "2023-09-16T17:46:42.334702",
            "user_variable_name": null,
            "variable_name": "unk_dataframe_981dd3e5f94946128ea8317e1d27986e"
          },
          "ef0df3b7-f75f-484b-b5a9-202087b24a2e": {
            "applied_filters": [],
            "dataframe_info": {
              "default_index_used": true,
              "orig_num_cols": 26,
              "orig_num_rows": 5,
              "orig_size_bytes": 1080,
              "truncated_num_cols": 26,
              "truncated_num_rows": 5,
              "truncated_size_bytes": 1080,
              "truncated_string_columns": []
            },
            "display_id": "ef0df3b7-f75f-484b-b5a9-202087b24a2e",
            "dx_settings": {
              "ALLOW_NOTEABLE_ATTRS": true,
              "COLUMN_SAMPLING_METHOD": "outer",
              "DB_LOCATION": ":memory:",
              "DEV_MODE": false,
              "DISPLAY_MAX_COLUMNS": 100,
              "DISPLAY_MAX_ROWS": 50000,
              "DISPLAY_MODE": "simple",
              "ENABLE_ASSIGNMENT": true,
              "ENABLE_DATALINK": true,
              "FLATTEN_COLUMN_VALUES": true,
              "FLATTEN_INDEX_VALUES": false,
              "GENERATE_DEX_METADATA": false,
              "HTML_TABLE_SCHEMA": false,
              "LOG_LEVEL": 30,
              "MAX_RENDER_SIZE_BYTES": 104857600,
              "MAX_STRING_LENGTH": 250,
              "NUM_PAST_SAMPLES_TRACKED": 3,
              "RANDOM_STATE": 12648430,
              "RESET_INDEX_VALUES": false,
              "ROW_SAMPLING_METHOD": "random",
              "SAMPLING_FACTOR": 0.1,
              "SAMPLING_METHOD": "random",
              "STRINGIFY_COLUMN_VALUES": true,
              "STRINGIFY_INDEX_VALUES": false
            },
            "sample_history": [],
            "sampling_time": "2023-09-16T20:41:25.584545",
            "user_variable_name": null,
            "variable_name": "unk_dataframe_a62ee269ed7c4c40a2444adeb33669c5"
          },
          "f2816dee-5585-44f9-962e-590efefc3e42": {
            "applied_filters": [],
            "dataframe_info": {
              "default_index_used": true,
              "orig_num_cols": 26,
              "orig_num_rows": 5,
              "orig_size_bytes": 1080,
              "truncated_num_cols": 26,
              "truncated_num_rows": 5,
              "truncated_size_bytes": 1080,
              "truncated_string_columns": []
            },
            "display_id": "f2816dee-5585-44f9-962e-590efefc3e42",
            "dx_settings": {
              "ALLOW_NOTEABLE_ATTRS": true,
              "COLUMN_SAMPLING_METHOD": "outer",
              "DB_LOCATION": ":memory:",
              "DEV_MODE": false,
              "DISPLAY_MAX_COLUMNS": 100,
              "DISPLAY_MAX_ROWS": 50000,
              "DISPLAY_MODE": "simple",
              "ENABLE_ASSIGNMENT": true,
              "ENABLE_DATALINK": true,
              "FLATTEN_COLUMN_VALUES": true,
              "FLATTEN_INDEX_VALUES": false,
              "GENERATE_DEX_METADATA": false,
              "HTML_TABLE_SCHEMA": false,
              "LOG_LEVEL": 30,
              "MAX_RENDER_SIZE_BYTES": 104857600,
              "MAX_STRING_LENGTH": 250,
              "NUM_PAST_SAMPLES_TRACKED": 3,
              "RANDOM_STATE": 12648430,
              "RESET_INDEX_VALUES": false,
              "ROW_SAMPLING_METHOD": "random",
              "SAMPLING_FACTOR": 0.1,
              "SAMPLING_METHOD": "random",
              "STRINGIFY_COLUMN_VALUES": true,
              "STRINGIFY_INDEX_VALUES": false
            },
            "sample_history": [],
            "sampling_time": "2023-09-16T21:15:43.899971",
            "user_variable_name": null,
            "variable_name": "unk_dataframe_b2ec5dd1fcd3468780525d3d687f33ae"
          }
        },
        "dx": {
          "fieldMetadata": {},
          "simpleTable": true,
          "updated": 1694844026856,
          "views": []
        },
        "noteable": {
          "cell_type": "code",
          "output_collection_id": "6d74a299-070c-4def-a839-151b19f12d5e"
        }
      },
      "outputs": [
        {
          "data": {
            "text/html": [
              "<div>\n",
              "<style scoped>\n",
              "    .dataframe tbody tr th:only-of-type {\n",
              "        vertical-align: middle;\n",
              "    }\n",
              "\n",
              "    .dataframe tbody tr th {\n",
              "        vertical-align: top;\n",
              "    }\n",
              "\n",
              "    .dataframe thead th {\n",
              "        text-align: right;\n",
              "    }\n",
              "</style>\n",
              "<table border=\"1\" class=\"dataframe\">\n",
              "  <thead>\n",
              "    <tr style=\"text-align: right;\">\n",
              "      <th></th>\n",
              "      <th>Gender</th>\n",
              "      <th>Date of Birth</th>\n",
              "      <th>Source of Traffic</th>\n",
              "      <th>Onboard Wifi Service</th>\n",
              "      <th>Embarkation/Disembarkation time convenient</th>\n",
              "      <th>Ease of Online booking</th>\n",
              "      <th>Gate location</th>\n",
              "      <th>Logging</th>\n",
              "      <th>Onboard Dining Service</th>\n",
              "      <th>Online Check-in</th>\n",
              "      <th>...</th>\n",
              "      <th>Cleanliness</th>\n",
              "      <th>Ext_Intcode</th>\n",
              "      <th>Age</th>\n",
              "      <th>Cruise Name</th>\n",
              "      <th>Ticket Type</th>\n",
              "      <th>WiFi</th>\n",
              "      <th>Dining</th>\n",
              "      <th>Entertainment</th>\n",
              "      <th>Cruise Distance</th>\n",
              "      <th>Age Group</th>\n",
              "    </tr>\n",
              "  </thead>\n",
              "  <tbody>\n",
              "    <tr>\n",
              "      <th>0</th>\n",
              "      <td>NaN</td>\n",
              "      <td>1973-10-05</td>\n",
              "      <td>Direct - Company Website</td>\n",
              "      <td>2.0</td>\n",
              "      <td>3.0</td>\n",
              "      <td>5.0</td>\n",
              "      <td>3.0</td>\n",
              "      <td>2023-01-01 00:00:00</td>\n",
              "      <td>4.0</td>\n",
              "      <td>2.0</td>\n",
              "      <td>...</td>\n",
              "      <td>3.0</td>\n",
              "      <td>LB446RWOOZI</td>\n",
              "      <td>50.0</td>\n",
              "      <td>Blastoise</td>\n",
              "      <td>NaN</td>\n",
              "      <td>1.0</td>\n",
              "      <td>1</td>\n",
              "      <td>1.0</td>\n",
              "      <td>3567.0000</td>\n",
              "      <td>46-60</td>\n",
              "    </tr>\n",
              "    <tr>\n",
              "      <th>1</th>\n",
              "      <td>Female</td>\n",
              "      <td>NaN</td>\n",
              "      <td>Indirect - Social Media</td>\n",
              "      <td>1.0</td>\n",
              "      <td>4.0</td>\n",
              "      <td>1.0</td>\n",
              "      <td>NaN</td>\n",
              "      <td>2023-01-01 00:01:00</td>\n",
              "      <td>4.0</td>\n",
              "      <td>NaN</td>\n",
              "      <td>...</td>\n",
              "      <td>4.0</td>\n",
              "      <td>LB138HKBECM</td>\n",
              "      <td>NaN</td>\n",
              "      <td>Blastoise</td>\n",
              "      <td>Deluxe</td>\n",
              "      <td>NaN</td>\n",
              "      <td>0</td>\n",
              "      <td>1.0</td>\n",
              "      <td>672.0000</td>\n",
              "      <td>NaN</td>\n",
              "    </tr>\n",
              "    <tr>\n",
              "      <th>2</th>\n",
              "      <td>Female</td>\n",
              "      <td>1998-07-22</td>\n",
              "      <td>Indirect - Search Engine</td>\n",
              "      <td>NaN</td>\n",
              "      <td>3.0</td>\n",
              "      <td>0.0</td>\n",
              "      <td>5.0</td>\n",
              "      <td>2023-01-01 00:02:00</td>\n",
              "      <td>NaN</td>\n",
              "      <td>NaN</td>\n",
              "      <td>...</td>\n",
              "      <td>NaN</td>\n",
              "      <td>BL713UHBAAN</td>\n",
              "      <td>25.0</td>\n",
              "      <td>Lapras</td>\n",
              "      <td>Deluxe</td>\n",
              "      <td>NaN</td>\n",
              "      <td>0</td>\n",
              "      <td>0.0</td>\n",
              "      <td>1167.0000</td>\n",
              "      <td>18-30</td>\n",
              "    </tr>\n",
              "    <tr>\n",
              "      <th>3</th>\n",
              "      <td>Female</td>\n",
              "      <td>1970-05-01</td>\n",
              "      <td>Direct - Company Website</td>\n",
              "      <td>4.0</td>\n",
              "      <td>4.0</td>\n",
              "      <td>4.0</td>\n",
              "      <td>4.0</td>\n",
              "      <td>2023-01-01 00:05:00</td>\n",
              "      <td>3.0</td>\n",
              "      <td>4.0</td>\n",
              "      <td>...</td>\n",
              "      <td>4.0</td>\n",
              "      <td>LB243DMKCFL</td>\n",
              "      <td>53.0</td>\n",
              "      <td>Lapras</td>\n",
              "      <td>Deluxe</td>\n",
              "      <td>NaN</td>\n",
              "      <td>0</td>\n",
              "      <td>1.0</td>\n",
              "      <td>280.0000</td>\n",
              "      <td>46-60</td>\n",
              "    </tr>\n",
              "    <tr>\n",
              "      <th>4</th>\n",
              "      <td>Male</td>\n",
              "      <td>1960-01-07</td>\n",
              "      <td>Direct - Company Website</td>\n",
              "      <td>3.0</td>\n",
              "      <td>4.0</td>\n",
              "      <td>2.0</td>\n",
              "      <td>NaN</td>\n",
              "      <td>2023-01-01 00:06:00</td>\n",
              "      <td>1.0</td>\n",
              "      <td>2.0</td>\n",
              "      <td>...</td>\n",
              "      <td>NaN</td>\n",
              "      <td>LB218CFLOBS</td>\n",
              "      <td>63.0</td>\n",
              "      <td>Lapras</td>\n",
              "      <td>Standard</td>\n",
              "      <td>NaN</td>\n",
              "      <td>1</td>\n",
              "      <td>NaN</td>\n",
              "      <td>1842.6943</td>\n",
              "      <td>61-80</td>\n",
              "    </tr>\n",
              "  </tbody>\n",
              "</table>\n",
              "<p>5 rows × 26 columns</p>\n",
              "</div>"
            ],
            "text/plain": [
              "   Gender Date of Birth         Source of Traffic  Onboard Wifi Service  \\\n",
              "0     NaN    1973-10-05  Direct - Company Website                   2.0   \n",
              "1  Female           NaN   Indirect - Social Media                   1.0   \n",
              "2  Female    1998-07-22  Indirect - Search Engine                   NaN   \n",
              "3  Female    1970-05-01  Direct - Company Website                   4.0   \n",
              "4    Male    1960-01-07  Direct - Company Website                   3.0   \n",
              "\n",
              "   Embarkation/Disembarkation time convenient  Ease of Online booking  \\\n",
              "0                                         3.0                     5.0   \n",
              "1                                         4.0                     1.0   \n",
              "2                                         3.0                     0.0   \n",
              "3                                         4.0                     4.0   \n",
              "4                                         4.0                     2.0   \n",
              "\n",
              "   Gate location              Logging  Onboard Dining Service  \\\n",
              "0            3.0  2023-01-01 00:00:00                     4.0   \n",
              "1            NaN  2023-01-01 00:01:00                     4.0   \n",
              "2            5.0  2023-01-01 00:02:00                     NaN   \n",
              "3            4.0  2023-01-01 00:05:00                     3.0   \n",
              "4            NaN  2023-01-01 00:06:00                     1.0   \n",
              "\n",
              "   Online Check-in  ...  Cleanliness  Ext_Intcode   Age  Cruise Name  \\\n",
              "0              2.0  ...          3.0  LB446RWOOZI  50.0    Blastoise   \n",
              "1              NaN  ...          4.0  LB138HKBECM   NaN    Blastoise   \n",
              "2              NaN  ...          NaN  BL713UHBAAN  25.0       Lapras   \n",
              "3              4.0  ...          4.0  LB243DMKCFL  53.0       Lapras   \n",
              "4              2.0  ...          NaN  LB218CFLOBS  63.0       Lapras   \n",
              "\n",
              "   Ticket Type  WiFi  Dining Entertainment  Cruise Distance Age Group  \n",
              "0          NaN   1.0       1           1.0        3567.0000     46-60  \n",
              "1       Deluxe   NaN       0           1.0         672.0000       NaN  \n",
              "2       Deluxe   NaN       0           0.0        1167.0000     18-30  \n",
              "3       Deluxe   NaN       0           1.0         280.0000     46-60  \n",
              "4     Standard   NaN       1           NaN        1842.6943     61-80  \n",
              "\n",
              "[5 rows x 26 columns]"
            ]
          },
          "execution_count": 2,
          "metadata": {},
          "output_type": "execute_result"
        }
      ],
      "source": [
        "# Load the cleaned data\n",
        "df = pd.read_csv('data/merged_data.csv')\n",
        "df.head()"
      ]
    },
    {
      "cell_type": "code",
      "execution_count": 3,
      "id": "fbdc0e59-39dd-4eb2-aeb2-888d75baf9f3",
      "metadata": {
        "ExecuteTime": {
          "end_time": "2023-09-17T03:36:00.295336+00:00",
          "start_time": "2023-09-17T03:36:00.046363+00:00"
        },
        "jupyter": {
          "outputs_hidden": false,
          "source_hidden": false
        },
        "noteable": {
          "cell_type": "code",
          "output_collection_id": "70b3a0d6-9c91-4580-9433-aeb3b24365f3"
        }
      },
      "outputs": [
        {
          "name": "stdout",
          "output_type": "stream",
          "text": [
            "<class 'pandas.core.frame.DataFrame'>\n",
            "RangeIndex: 141538 entries, 0 to 141537\n",
            "Data columns (total 26 columns):\n",
            " #   Column                                      Non-Null Count   Dtype  \n",
            "---  ------                                      --------------   -----  \n",
            " 0   Gender                                      127308 non-null  object \n",
            " 1   Date of Birth                               126056 non-null  object \n",
            " 2   Source of Traffic                           141538 non-null  object \n",
            " 3   Onboard Wifi Service                        120910 non-null  float64\n",
            " 4   Embarkation/Disembarkation time convenient  125005 non-null  float64\n",
            " 5   Ease of Online booking                      122047 non-null  float64\n",
            " 6   Gate location                               123400 non-null  float64\n",
            " 7   Logging                                     141538 non-null  object \n",
            " 8   Onboard Dining Service                      123793 non-null  float64\n",
            " 9   Online Check-in                             124909 non-null  float64\n",
            " 10  Cabin Comfort                               116917 non-null  float64\n",
            " 11  Onboard Entertainment                       124693 non-null  float64\n",
            " 12  Cabin service                               126950 non-null  float64\n",
            " 13  Baggage handling                            116869 non-null  float64\n",
            " 14  Port Check-in Service                       126389 non-null  float64\n",
            " 15  Onboard Service                             122059 non-null  float64\n",
            " 16  Cleanliness                                 118824 non-null  float64\n",
            " 17  Ext_Intcode                                 141538 non-null  object \n",
            " 18  Age                                         121006 non-null  float64\n",
            " 19  Cruise Name                                 124637 non-null  object \n",
            " 20  Ticket Type                                 120282 non-null  object \n",
            " 21  WiFi                                        67758 non-null   float64\n",
            " 22  Dining                                      141538 non-null  int64  \n",
            " 23  Entertainment                               77969 non-null   float64\n",
            " 24  Cruise Distance                             126234 non-null  float64\n",
            " 25  Age Group                                   121006 non-null  object \n",
            "dtypes: float64(17), int64(1), object(8)\n",
            "memory usage: 28.1+ MB\n"
          ]
        }
      ],
      "source": [
        "df.info()"
      ]
    },
    {
      "cell_type": "markdown",
      "id": "0c6803be-66c2-496d-9075-91e8674140f2",
      "metadata": {
        "noteable": {
          "cell_type": "markdown"
        }
      },
      "source": [
        "### Data Preprocessing"
      ]
    },
    {
      "cell_type": "code",
      "execution_count": 4,
      "id": "828a3b53-23a0-4be6-b8e1-757edeee5125",
      "metadata": {
        "ExecuteTime": {
          "end_time": "2023-09-17T03:36:00.458203+00:00",
          "start_time": "2023-09-17T03:36:00.300795+00:00"
        },
        "jupyter": {
          "outputs_hidden": false,
          "source_hidden": false
        },
        "noteable": {
          "cell_type": "code",
          "output_collection_id": "7bff366d-86c3-48af-8e94-0d9b21c6ef18"
        }
      },
      "outputs": [],
      "source": [
        "# Removing Logging column since the time where the customers information was logged shouldn't be relevant to avoid curse of dimensionality\n",
        "# Removing Ext_Intcode since it is only relevant for consolidating our datasets\n",
        "# Removing Date of Birth since we got the Age\n",
        "# Removing Cruise Name since there was no specification/mention that there were any differences between the two\n",
        "# Removing Age Group\n",
        "\n",
        "columns_to_remove = ['Logging', 'Ext_Intcode', 'Date of Birth', 'Cruise Name', 'Age Group']\n",
        "df.drop(columns_to_remove, axis=1, inplace=True)"
      ]
    },
    {
      "cell_type": "code",
      "execution_count": 5,
      "id": "e68db707-a382-48ad-b559-118befce62a1",
      "metadata": {
        "ExecuteTime": {
          "end_time": "2023-09-17T03:36:00.635436+00:00",
          "start_time": "2023-09-17T03:36:00.463448+00:00"
        },
        "datalink": {
          "725df043-4608-4458-8ac2-3ff7e9225a4c": {
            "applied_filters": [],
            "dataframe_info": {
              "default_index_used": true,
              "orig_num_cols": 21,
              "orig_num_rows": 120282,
              "orig_size_bytes": 21169632,
              "truncated_num_cols": 21,
              "truncated_num_rows": 50000,
              "truncated_size_bytes": 8800000,
              "truncated_string_columns": []
            },
            "display_id": "725df043-4608-4458-8ac2-3ff7e9225a4c",
            "dx_settings": {
              "ALLOW_NOTEABLE_ATTRS": true,
              "COLUMN_SAMPLING_METHOD": "outer",
              "DB_LOCATION": ":memory:",
              "DEV_MODE": false,
              "DISPLAY_MAX_COLUMNS": 100,
              "DISPLAY_MAX_ROWS": 50000,
              "DISPLAY_MODE": "simple",
              "ENABLE_ASSIGNMENT": true,
              "ENABLE_DATALINK": true,
              "FLATTEN_COLUMN_VALUES": true,
              "FLATTEN_INDEX_VALUES": false,
              "GENERATE_DEX_METADATA": false,
              "HTML_TABLE_SCHEMA": false,
              "LOG_LEVEL": 30,
              "MAX_RENDER_SIZE_BYTES": 104857600,
              "MAX_STRING_LENGTH": 250,
              "NUM_PAST_SAMPLES_TRACKED": 3,
              "RANDOM_STATE": 12648430,
              "RESET_INDEX_VALUES": false,
              "ROW_SAMPLING_METHOD": "random",
              "SAMPLING_FACTOR": 0.1,
              "SAMPLING_METHOD": "random",
              "STRINGIFY_COLUMN_VALUES": true,
              "STRINGIFY_INDEX_VALUES": false
            },
            "sample_history": [],
            "sampling_time": "2023-09-16T20:31:58.505721",
            "user_variable_name": null,
            "variable_name": "unk_dataframe_04d63c7d252448d9a2aecd505112a879"
          },
          "fc14f629-aae2-43dc-bc91-b26a762b8535": {
            "applied_filters": [],
            "dataframe_info": {
              "default_index_used": true,
              "orig_num_cols": 21,
              "orig_num_rows": 120282,
              "orig_size_bytes": 21169632,
              "truncated_num_cols": 21,
              "truncated_num_rows": 50000,
              "truncated_size_bytes": 8800000,
              "truncated_string_columns": []
            },
            "display_id": "fc14f629-aae2-43dc-bc91-b26a762b8535",
            "dx_settings": {
              "ALLOW_NOTEABLE_ATTRS": true,
              "COLUMN_SAMPLING_METHOD": "outer",
              "DB_LOCATION": ":memory:",
              "DEV_MODE": false,
              "DISPLAY_MAX_COLUMNS": 100,
              "DISPLAY_MAX_ROWS": 50000,
              "DISPLAY_MODE": "simple",
              "ENABLE_ASSIGNMENT": true,
              "ENABLE_DATALINK": true,
              "FLATTEN_COLUMN_VALUES": true,
              "FLATTEN_INDEX_VALUES": false,
              "GENERATE_DEX_METADATA": false,
              "HTML_TABLE_SCHEMA": false,
              "LOG_LEVEL": 30,
              "MAX_RENDER_SIZE_BYTES": 104857600,
              "MAX_STRING_LENGTH": 250,
              "NUM_PAST_SAMPLES_TRACKED": 3,
              "RANDOM_STATE": 12648430,
              "RESET_INDEX_VALUES": false,
              "ROW_SAMPLING_METHOD": "random",
              "SAMPLING_FACTOR": 0.1,
              "SAMPLING_METHOD": "random",
              "STRINGIFY_COLUMN_VALUES": true,
              "STRINGIFY_INDEX_VALUES": false
            },
            "sample_history": [],
            "sampling_time": "2023-09-16T20:41:29.703830",
            "user_variable_name": null,
            "variable_name": "unk_dataframe_c0f66063e56649a9b83ad157db4df141"
          }
        },
        "jupyter": {
          "outputs_hidden": false,
          "source_hidden": false
        },
        "noteable": {
          "cell_type": "code",
          "output_collection_id": "d54ff2a1-32c7-49f9-a784-3a649e138b3e"
        }
      },
      "outputs": [],
      "source": [
        "# Dropping rows where our target variable 'Ticket Type' has missing values\n",
        "df.dropna(subset=['Ticket Type'], inplace=True)\n"
      ]
    },
    {
      "cell_type": "code",
      "execution_count": 6,
      "id": "46fbb0a0-1ab8-4a4b-bb6e-907b030f4812",
      "metadata": {
        "ExecuteTime": {
          "end_time": "2023-09-17T03:36:00.824795+00:00",
          "start_time": "2023-09-17T03:36:00.643149+00:00"
        },
        "jupyter": {
          "outputs_hidden": false,
          "source_hidden": false
        },
        "noteable": {
          "cell_type": "code",
          "output_collection_id": "c4e8e1d3-90f6-4593-a574-01c76b4a9c66"
        }
      },
      "outputs": [],
      "source": [
        "# Train Test Split Data\n",
        "\n",
        "X = df.drop('Ticket Type', axis=1)\n",
        "y = df['Ticket Type']\n",
        "X_train, X_test, y_train, y_test = train_test_split(X, y, test_size=0.2, random_state=42, stratify=df['Ticket Type']) # Stratify to ensure that the train and test data have the same proportion of ticket types\n"
      ]
    },
    {
      "cell_type": "code",
      "execution_count": 7,
      "id": "5dfc797f-a11a-4ffe-a3d2-058ca6fb7ed7",
      "metadata": {
        "ExecuteTime": {
          "end_time": "2023-09-17T03:36:01.032774+00:00",
          "start_time": "2023-09-17T03:36:00.830087+00:00"
        },
        "datalink": {
          "0ac3529e-65ba-4fec-821b-a17c6209a73b": {
            "applied_filters": [],
            "dataframe_info": {
              "default_index_used": true,
              "orig_num_cols": 24,
              "orig_num_rows": 5,
              "orig_size_bytes": 825,
              "truncated_num_cols": 24,
              "truncated_num_rows": 5,
              "truncated_size_bytes": 825,
              "truncated_string_columns": []
            },
            "display_id": "0ac3529e-65ba-4fec-821b-a17c6209a73b",
            "dx_settings": {
              "ALLOW_NOTEABLE_ATTRS": true,
              "COLUMN_SAMPLING_METHOD": "outer",
              "DB_LOCATION": ":memory:",
              "DEV_MODE": false,
              "DISPLAY_MAX_COLUMNS": 100,
              "DISPLAY_MAX_ROWS": 50000,
              "DISPLAY_MODE": "simple",
              "ENABLE_ASSIGNMENT": true,
              "ENABLE_DATALINK": true,
              "FLATTEN_COLUMN_VALUES": true,
              "FLATTEN_INDEX_VALUES": false,
              "GENERATE_DEX_METADATA": false,
              "HTML_TABLE_SCHEMA": false,
              "LOG_LEVEL": 30,
              "MAX_RENDER_SIZE_BYTES": 104857600,
              "MAX_STRING_LENGTH": 250,
              "NUM_PAST_SAMPLES_TRACKED": 3,
              "RANDOM_STATE": 12648430,
              "RESET_INDEX_VALUES": false,
              "ROW_SAMPLING_METHOD": "random",
              "SAMPLING_FACTOR": 0.1,
              "SAMPLING_METHOD": "random",
              "STRINGIFY_COLUMN_VALUES": true,
              "STRINGIFY_INDEX_VALUES": false
            },
            "sample_history": [],
            "sampling_time": "2023-09-16T17:32:29.552096",
            "user_variable_name": null,
            "variable_name": "unk_dataframe_ed55849758cc4138ac0250b577310083"
          },
          "0c12f51a-dcca-4e88-baeb-0c5c4d53f390": {
            "applied_filters": [],
            "dataframe_info": {
              "default_index_used": true,
              "orig_num_cols": 24,
              "orig_num_rows": 5,
              "orig_size_bytes": 790,
              "truncated_num_cols": 24,
              "truncated_num_rows": 5,
              "truncated_size_bytes": 790,
              "truncated_string_columns": []
            },
            "display_id": "0c12f51a-dcca-4e88-baeb-0c5c4d53f390",
            "dx_settings": {
              "ALLOW_NOTEABLE_ATTRS": true,
              "COLUMN_SAMPLING_METHOD": "outer",
              "DB_LOCATION": ":memory:",
              "DEV_MODE": false,
              "DISPLAY_MAX_COLUMNS": 100,
              "DISPLAY_MAX_ROWS": 50000,
              "DISPLAY_MODE": "simple",
              "ENABLE_ASSIGNMENT": true,
              "ENABLE_DATALINK": true,
              "FLATTEN_COLUMN_VALUES": true,
              "FLATTEN_INDEX_VALUES": false,
              "GENERATE_DEX_METADATA": false,
              "HTML_TABLE_SCHEMA": false,
              "LOG_LEVEL": 30,
              "MAX_RENDER_SIZE_BYTES": 104857600,
              "MAX_STRING_LENGTH": 250,
              "NUM_PAST_SAMPLES_TRACKED": 3,
              "RANDOM_STATE": 12648430,
              "RESET_INDEX_VALUES": false,
              "ROW_SAMPLING_METHOD": "random",
              "SAMPLING_FACTOR": 0.1,
              "SAMPLING_METHOD": "random",
              "STRINGIFY_COLUMN_VALUES": true,
              "STRINGIFY_INDEX_VALUES": false
            },
            "sample_history": [],
            "sampling_time": "2023-09-16T17:39:28.327454",
            "user_variable_name": null,
            "variable_name": "unk_dataframe_6fc9c228b1a14d80af06dff72878bc0b"
          },
          "1ee65979-0f66-4ce0-80af-0326a3a658ce": {
            "applied_filters": [],
            "dataframe_info": {
              "default_index_used": true,
              "orig_num_cols": 24,
              "orig_num_rows": 5,
              "orig_size_bytes": 790,
              "truncated_num_cols": 24,
              "truncated_num_rows": 5,
              "truncated_size_bytes": 790,
              "truncated_string_columns": []
            },
            "display_id": "1ee65979-0f66-4ce0-80af-0326a3a658ce",
            "dx_settings": {
              "ALLOW_NOTEABLE_ATTRS": true,
              "COLUMN_SAMPLING_METHOD": "outer",
              "DB_LOCATION": ":memory:",
              "DEV_MODE": false,
              "DISPLAY_MAX_COLUMNS": 100,
              "DISPLAY_MAX_ROWS": 50000,
              "DISPLAY_MODE": "simple",
              "ENABLE_ASSIGNMENT": true,
              "ENABLE_DATALINK": true,
              "FLATTEN_COLUMN_VALUES": true,
              "FLATTEN_INDEX_VALUES": false,
              "GENERATE_DEX_METADATA": false,
              "HTML_TABLE_SCHEMA": false,
              "LOG_LEVEL": 30,
              "MAX_RENDER_SIZE_BYTES": 104857600,
              "MAX_STRING_LENGTH": 250,
              "NUM_PAST_SAMPLES_TRACKED": 3,
              "RANDOM_STATE": 12648430,
              "RESET_INDEX_VALUES": false,
              "ROW_SAMPLING_METHOD": "random",
              "SAMPLING_FACTOR": 0.1,
              "SAMPLING_METHOD": "random",
              "STRINGIFY_COLUMN_VALUES": true,
              "STRINGIFY_INDEX_VALUES": false
            },
            "sample_history": [],
            "sampling_time": "2023-09-16T17:34:08.287261",
            "user_variable_name": null,
            "variable_name": "unk_dataframe_3c879a0e16cf4c5bb0633094137f311e"
          }
        },
        "dx": {
          "fieldMetadata": {},
          "simpleTable": true,
          "updated": 1694885553251,
          "views": []
        },
        "jupyter": {
          "outputs_hidden": false,
          "source_hidden": false
        },
        "noteable": {
          "cell_type": "code",
          "output_collection_id": "7cd17061-fe96-40d4-ae3b-0662abc19648"
        }
      },
      "outputs": [],
      "source": [
        "# Converting categorical columns 'Gender', Source of Traffic' and 'Ticket Type' to numerical with one hot encoding as they should not be ordinal in nature \n",
        "\n",
        "# Encode categorical columns separately for training and testing sets\n",
        "X_train_encoded = pd.get_dummies(X_train, columns=['Gender', 'Source of Traffic'], drop_first=True)\n",
        "X_test_encoded = pd.get_dummies(X_test, columns=['Gender', 'Source of Traffic'], drop_first=True)\n"
      ]
    },
    {
      "cell_type": "code",
      "execution_count": 8,
      "id": "82be181a-88cf-4041-b4b7-12555c4c3a34",
      "metadata": {
        "ExecuteTime": {
          "end_time": "2023-09-17T03:36:03.788405+00:00",
          "start_time": "2023-09-17T03:36:01.038021+00:00"
        },
        "datalink": {
          "0b0a62f6-5e9e-414b-8110-b9fd9f472a6f": {
            "applied_filters": [],
            "dataframe_info": {
              "default_index_used": true,
              "orig_num_cols": 22,
              "orig_num_rows": 5,
              "orig_size_bytes": 780,
              "truncated_num_cols": 22,
              "truncated_num_rows": 5,
              "truncated_size_bytes": 780,
              "truncated_string_columns": []
            },
            "display_id": "0b0a62f6-5e9e-414b-8110-b9fd9f472a6f",
            "dx_settings": {
              "ALLOW_NOTEABLE_ATTRS": true,
              "COLUMN_SAMPLING_METHOD": "outer",
              "DB_LOCATION": ":memory:",
              "DEV_MODE": false,
              "DISPLAY_MAX_COLUMNS": 100,
              "DISPLAY_MAX_ROWS": 50000,
              "DISPLAY_MODE": "simple",
              "ENABLE_ASSIGNMENT": true,
              "ENABLE_DATALINK": true,
              "FLATTEN_COLUMN_VALUES": true,
              "FLATTEN_INDEX_VALUES": false,
              "GENERATE_DEX_METADATA": false,
              "HTML_TABLE_SCHEMA": false,
              "LOG_LEVEL": 30,
              "MAX_RENDER_SIZE_BYTES": 104857600,
              "MAX_STRING_LENGTH": 250,
              "NUM_PAST_SAMPLES_TRACKED": 3,
              "RANDOM_STATE": 12648430,
              "RESET_INDEX_VALUES": false,
              "ROW_SAMPLING_METHOD": "random",
              "SAMPLING_FACTOR": 0.1,
              "SAMPLING_METHOD": "random",
              "STRINGIFY_COLUMN_VALUES": true,
              "STRINGIFY_INDEX_VALUES": false
            },
            "sample_history": [],
            "sampling_time": "2023-09-16T21:15:47.882062",
            "user_variable_name": null,
            "variable_name": "unk_dataframe_743fb2666124446ea428d6543979a4d5"
          },
          "11894442-d145-4fe5-b58d-fa89aa506338": {
            "applied_filters": [],
            "dataframe_info": {
              "default_index_used": true,
              "orig_num_cols": 22,
              "orig_num_rows": 5,
              "orig_size_bytes": 780,
              "truncated_num_cols": 22,
              "truncated_num_rows": 5,
              "truncated_size_bytes": 780,
              "truncated_string_columns": []
            },
            "display_id": "11894442-d145-4fe5-b58d-fa89aa506338",
            "dx_settings": {
              "ALLOW_NOTEABLE_ATTRS": true,
              "COLUMN_SAMPLING_METHOD": "outer",
              "DB_LOCATION": ":memory:",
              "DEV_MODE": false,
              "DISPLAY_MAX_COLUMNS": 100,
              "DISPLAY_MAX_ROWS": 50000,
              "DISPLAY_MODE": "simple",
              "ENABLE_ASSIGNMENT": true,
              "ENABLE_DATALINK": true,
              "FLATTEN_COLUMN_VALUES": true,
              "FLATTEN_INDEX_VALUES": false,
              "GENERATE_DEX_METADATA": false,
              "HTML_TABLE_SCHEMA": false,
              "LOG_LEVEL": 30,
              "MAX_RENDER_SIZE_BYTES": 104857600,
              "MAX_STRING_LENGTH": 250,
              "NUM_PAST_SAMPLES_TRACKED": 3,
              "RANDOM_STATE": 12648430,
              "RESET_INDEX_VALUES": false,
              "ROW_SAMPLING_METHOD": "random",
              "SAMPLING_FACTOR": 0.1,
              "SAMPLING_METHOD": "random",
              "STRINGIFY_COLUMN_VALUES": true,
              "STRINGIFY_INDEX_VALUES": false
            },
            "sample_history": [],
            "sampling_time": "2023-09-16T20:19:04.143209",
            "user_variable_name": null,
            "variable_name": "unk_dataframe_6a0ff95447084f4eb1b995329a5450b2"
          },
          "2fbe7c37-ae1a-4622-96b4-ae9aaba152d1": {
            "applied_filters": [],
            "dataframe_info": {
              "default_index_used": true,
              "orig_num_cols": 22,
              "orig_num_rows": 5,
              "orig_size_bytes": 780,
              "truncated_num_cols": 22,
              "truncated_num_rows": 5,
              "truncated_size_bytes": 780,
              "truncated_string_columns": []
            },
            "display_id": "2fbe7c37-ae1a-4622-96b4-ae9aaba152d1",
            "dx_settings": {
              "ALLOW_NOTEABLE_ATTRS": true,
              "COLUMN_SAMPLING_METHOD": "outer",
              "DB_LOCATION": ":memory:",
              "DEV_MODE": false,
              "DISPLAY_MAX_COLUMNS": 100,
              "DISPLAY_MAX_ROWS": 50000,
              "DISPLAY_MODE": "simple",
              "ENABLE_ASSIGNMENT": true,
              "ENABLE_DATALINK": true,
              "FLATTEN_COLUMN_VALUES": true,
              "FLATTEN_INDEX_VALUES": false,
              "GENERATE_DEX_METADATA": false,
              "HTML_TABLE_SCHEMA": false,
              "LOG_LEVEL": 30,
              "MAX_RENDER_SIZE_BYTES": 104857600,
              "MAX_STRING_LENGTH": 250,
              "NUM_PAST_SAMPLES_TRACKED": 3,
              "RANDOM_STATE": 12648430,
              "RESET_INDEX_VALUES": false,
              "ROW_SAMPLING_METHOD": "random",
              "SAMPLING_FACTOR": 0.1,
              "SAMPLING_METHOD": "random",
              "STRINGIFY_COLUMN_VALUES": true,
              "STRINGIFY_INDEX_VALUES": false
            },
            "sample_history": [],
            "sampling_time": "2023-09-16T17:49:07.962397",
            "user_variable_name": null,
            "variable_name": "unk_dataframe_1fe95989da7649deb885e6a68e9eda74"
          },
          "685785df-e2e0-40aa-83ba-4892f17f4f37": {
            "applied_filters": [],
            "dataframe_info": {
              "default_index_used": true,
              "orig_num_cols": 22,
              "orig_num_rows": 5,
              "orig_size_bytes": 780,
              "truncated_num_cols": 22,
              "truncated_num_rows": 5,
              "truncated_size_bytes": 780,
              "truncated_string_columns": []
            },
            "display_id": "685785df-e2e0-40aa-83ba-4892f17f4f37",
            "dx_settings": {
              "ALLOW_NOTEABLE_ATTRS": true,
              "COLUMN_SAMPLING_METHOD": "outer",
              "DB_LOCATION": ":memory:",
              "DEV_MODE": false,
              "DISPLAY_MAX_COLUMNS": 100,
              "DISPLAY_MAX_ROWS": 50000,
              "DISPLAY_MODE": "simple",
              "ENABLE_ASSIGNMENT": true,
              "ENABLE_DATALINK": true,
              "FLATTEN_COLUMN_VALUES": true,
              "FLATTEN_INDEX_VALUES": false,
              "GENERATE_DEX_METADATA": false,
              "HTML_TABLE_SCHEMA": false,
              "LOG_LEVEL": 30,
              "MAX_RENDER_SIZE_BYTES": 104857600,
              "MAX_STRING_LENGTH": 250,
              "NUM_PAST_SAMPLES_TRACKED": 3,
              "RANDOM_STATE": 12648430,
              "RESET_INDEX_VALUES": false,
              "ROW_SAMPLING_METHOD": "random",
              "SAMPLING_FACTOR": 0.1,
              "SAMPLING_METHOD": "random",
              "STRINGIFY_COLUMN_VALUES": true,
              "STRINGIFY_INDEX_VALUES": false
            },
            "sample_history": [],
            "sampling_time": "2023-09-16T20:41:39.766563",
            "user_variable_name": null,
            "variable_name": "unk_dataframe_076ea293f284495c95753a50ca1472e6"
          },
          "7bb36848-d185-4023-95aa-ce66a3fb391a": {
            "applied_filters": [],
            "dataframe_info": {
              "default_index_used": true,
              "orig_num_cols": 22,
              "orig_num_rows": 5,
              "orig_size_bytes": 780,
              "truncated_num_cols": 22,
              "truncated_num_rows": 5,
              "truncated_size_bytes": 780,
              "truncated_string_columns": []
            },
            "display_id": "7bb36848-d185-4023-95aa-ce66a3fb391a",
            "dx_settings": {
              "ALLOW_NOTEABLE_ATTRS": true,
              "COLUMN_SAMPLING_METHOD": "outer",
              "DB_LOCATION": ":memory:",
              "DEV_MODE": false,
              "DISPLAY_MAX_COLUMNS": 100,
              "DISPLAY_MAX_ROWS": 50000,
              "DISPLAY_MODE": "simple",
              "ENABLE_ASSIGNMENT": true,
              "ENABLE_DATALINK": true,
              "FLATTEN_COLUMN_VALUES": true,
              "FLATTEN_INDEX_VALUES": false,
              "GENERATE_DEX_METADATA": false,
              "HTML_TABLE_SCHEMA": false,
              "LOG_LEVEL": 30,
              "MAX_RENDER_SIZE_BYTES": 104857600,
              "MAX_STRING_LENGTH": 250,
              "NUM_PAST_SAMPLES_TRACKED": 3,
              "RANDOM_STATE": 12648430,
              "RESET_INDEX_VALUES": false,
              "ROW_SAMPLING_METHOD": "random",
              "SAMPLING_FACTOR": 0.1,
              "SAMPLING_METHOD": "random",
              "STRINGIFY_COLUMN_VALUES": true,
              "STRINGIFY_INDEX_VALUES": false
            },
            "sample_history": [],
            "sampling_time": "2023-09-16T17:51:12.215846",
            "user_variable_name": null,
            "variable_name": "unk_dataframe_8497a22de8ee445fb96e08aae9b553f3"
          },
          "93ea0299-a81d-4e47-8729-0d68e6433e0d": {
            "applied_filters": [],
            "dataframe_info": {
              "default_index_used": true,
              "orig_num_cols": 22,
              "orig_num_rows": 5,
              "orig_size_bytes": 780,
              "truncated_num_cols": 22,
              "truncated_num_rows": 5,
              "truncated_size_bytes": 780,
              "truncated_string_columns": []
            },
            "display_id": "93ea0299-a81d-4e47-8729-0d68e6433e0d",
            "dx_settings": {
              "ALLOW_NOTEABLE_ATTRS": true,
              "COLUMN_SAMPLING_METHOD": "outer",
              "DB_LOCATION": ":memory:",
              "DEV_MODE": false,
              "DISPLAY_MAX_COLUMNS": 100,
              "DISPLAY_MAX_ROWS": 50000,
              "DISPLAY_MODE": "simple",
              "ENABLE_ASSIGNMENT": true,
              "ENABLE_DATALINK": true,
              "FLATTEN_COLUMN_VALUES": true,
              "FLATTEN_INDEX_VALUES": false,
              "GENERATE_DEX_METADATA": false,
              "HTML_TABLE_SCHEMA": false,
              "LOG_LEVEL": 30,
              "MAX_RENDER_SIZE_BYTES": 104857600,
              "MAX_STRING_LENGTH": 250,
              "NUM_PAST_SAMPLES_TRACKED": 3,
              "RANDOM_STATE": 12648430,
              "RESET_INDEX_VALUES": false,
              "ROW_SAMPLING_METHOD": "random",
              "SAMPLING_FACTOR": 0.1,
              "SAMPLING_METHOD": "random",
              "STRINGIFY_COLUMN_VALUES": true,
              "STRINGIFY_INDEX_VALUES": false
            },
            "sample_history": [],
            "sampling_time": "2023-09-16T20:32:08.897264",
            "user_variable_name": null,
            "variable_name": "unk_dataframe_545d4b1fddfe48a880add4b302c84a28"
          },
          "b68cf024-68a7-488c-988c-2067c8ba4661": {
            "applied_filters": [],
            "dataframe_info": {
              "default_index_used": true,
              "orig_num_cols": 22,
              "orig_num_rows": 5,
              "orig_size_bytes": 780,
              "truncated_num_cols": 22,
              "truncated_num_rows": 5,
              "truncated_size_bytes": 780,
              "truncated_string_columns": []
            },
            "display_id": "b68cf024-68a7-488c-988c-2067c8ba4661",
            "dx_settings": {
              "ALLOW_NOTEABLE_ATTRS": true,
              "COLUMN_SAMPLING_METHOD": "outer",
              "DB_LOCATION": ":memory:",
              "DEV_MODE": false,
              "DISPLAY_MAX_COLUMNS": 100,
              "DISPLAY_MAX_ROWS": 50000,
              "DISPLAY_MODE": "simple",
              "ENABLE_ASSIGNMENT": true,
              "ENABLE_DATALINK": true,
              "FLATTEN_COLUMN_VALUES": true,
              "FLATTEN_INDEX_VALUES": false,
              "GENERATE_DEX_METADATA": false,
              "HTML_TABLE_SCHEMA": false,
              "LOG_LEVEL": 30,
              "MAX_RENDER_SIZE_BYTES": 104857600,
              "MAX_STRING_LENGTH": 250,
              "NUM_PAST_SAMPLES_TRACKED": 3,
              "RANDOM_STATE": 12648430,
              "RESET_INDEX_VALUES": false,
              "ROW_SAMPLING_METHOD": "random",
              "SAMPLING_FACTOR": 0.1,
              "SAMPLING_METHOD": "random",
              "STRINGIFY_COLUMN_VALUES": true,
              "STRINGIFY_INDEX_VALUES": false
            },
            "sample_history": [],
            "sampling_time": "2023-09-17T03:36:03.626054",
            "user_variable_name": null,
            "variable_name": "unk_dataframe_a4feab38fbaf4ebc9c338c0b1dd8d3f8"
          },
          "bc3c6037-4e47-4246-bbb9-a6a04805c0b7": {
            "applied_filters": [],
            "dataframe_info": {
              "default_index_used": true,
              "orig_num_cols": 22,
              "orig_num_rows": 5,
              "orig_size_bytes": 780,
              "truncated_num_cols": 22,
              "truncated_num_rows": 5,
              "truncated_size_bytes": 780,
              "truncated_string_columns": []
            },
            "display_id": "bc3c6037-4e47-4246-bbb9-a6a04805c0b7",
            "dx_settings": {
              "ALLOW_NOTEABLE_ATTRS": true,
              "COLUMN_SAMPLING_METHOD": "outer",
              "DB_LOCATION": ":memory:",
              "DEV_MODE": false,
              "DISPLAY_MAX_COLUMNS": 100,
              "DISPLAY_MAX_ROWS": 50000,
              "DISPLAY_MODE": "simple",
              "ENABLE_ASSIGNMENT": true,
              "ENABLE_DATALINK": true,
              "FLATTEN_COLUMN_VALUES": true,
              "FLATTEN_INDEX_VALUES": false,
              "GENERATE_DEX_METADATA": false,
              "HTML_TABLE_SCHEMA": false,
              "LOG_LEVEL": 30,
              "MAX_RENDER_SIZE_BYTES": 104857600,
              "MAX_STRING_LENGTH": 250,
              "NUM_PAST_SAMPLES_TRACKED": 3,
              "RANDOM_STATE": 12648430,
              "RESET_INDEX_VALUES": false,
              "ROW_SAMPLING_METHOD": "random",
              "SAMPLING_FACTOR": 0.1,
              "SAMPLING_METHOD": "random",
              "STRINGIFY_COLUMN_VALUES": true,
              "STRINGIFY_INDEX_VALUES": false
            },
            "sample_history": [],
            "sampling_time": "2023-09-16T19:19:57.017803",
            "user_variable_name": null,
            "variable_name": "unk_dataframe_af803b96a0ed40fc8b3bcb696b50e72e"
          },
          "c937ca51-bb19-4e63-a3f9-8cba3c1fe44c": {
            "applied_filters": [],
            "dataframe_info": {
              "default_index_used": true,
              "orig_num_cols": 22,
              "orig_num_rows": 5,
              "orig_size_bytes": 780,
              "truncated_num_cols": 22,
              "truncated_num_rows": 5,
              "truncated_size_bytes": 780,
              "truncated_string_columns": []
            },
            "display_id": "c937ca51-bb19-4e63-a3f9-8cba3c1fe44c",
            "dx_settings": {
              "ALLOW_NOTEABLE_ATTRS": true,
              "COLUMN_SAMPLING_METHOD": "outer",
              "DB_LOCATION": ":memory:",
              "DEV_MODE": false,
              "DISPLAY_MAX_COLUMNS": 100,
              "DISPLAY_MAX_ROWS": 50000,
              "DISPLAY_MODE": "simple",
              "ENABLE_ASSIGNMENT": true,
              "ENABLE_DATALINK": true,
              "FLATTEN_COLUMN_VALUES": true,
              "FLATTEN_INDEX_VALUES": false,
              "GENERATE_DEX_METADATA": false,
              "HTML_TABLE_SCHEMA": false,
              "LOG_LEVEL": 30,
              "MAX_RENDER_SIZE_BYTES": 104857600,
              "MAX_STRING_LENGTH": 250,
              "NUM_PAST_SAMPLES_TRACKED": 3,
              "RANDOM_STATE": 12648430,
              "RESET_INDEX_VALUES": false,
              "ROW_SAMPLING_METHOD": "random",
              "SAMPLING_FACTOR": 0.1,
              "SAMPLING_METHOD": "random",
              "STRINGIFY_COLUMN_VALUES": true,
              "STRINGIFY_INDEX_VALUES": false
            },
            "sample_history": [],
            "sampling_time": "2023-09-16T19:17:31.083648",
            "user_variable_name": null,
            "variable_name": "unk_dataframe_90cf9e93617f49e88504e87d74fcb7df"
          }
        },
        "dx": {
          "fieldMetadata": {},
          "simpleTable": true,
          "updated": 1694886552042,
          "views": []
        },
        "jupyter": {
          "outputs_hidden": false,
          "source_hidden": false
        },
        "noteable": {
          "cell_type": "code",
          "output_collection_id": "ff3581be-3a01-4977-8875-4c1a476baa78"
        }
      },
      "outputs": [
        {
          "data": {
            "text/html": [
              "<div>\n",
              "<style scoped>\n",
              "    .dataframe tbody tr th:only-of-type {\n",
              "        vertical-align: middle;\n",
              "    }\n",
              "\n",
              "    .dataframe tbody tr th {\n",
              "        vertical-align: top;\n",
              "    }\n",
              "\n",
              "    .dataframe thead th {\n",
              "        text-align: right;\n",
              "    }\n",
              "</style>\n",
              "<table border=\"1\" class=\"dataframe\">\n",
              "  <thead>\n",
              "    <tr style=\"text-align: right;\">\n",
              "      <th></th>\n",
              "      <th>Onboard Wifi Service</th>\n",
              "      <th>Embarkation/Disembarkation time convenient</th>\n",
              "      <th>Ease of Online booking</th>\n",
              "      <th>Gate location</th>\n",
              "      <th>Onboard Dining Service</th>\n",
              "      <th>Online Check-in</th>\n",
              "      <th>Cabin Comfort</th>\n",
              "      <th>Onboard Entertainment</th>\n",
              "      <th>Cabin service</th>\n",
              "      <th>Baggage handling</th>\n",
              "      <th>...</th>\n",
              "      <th>Cleanliness</th>\n",
              "      <th>Age</th>\n",
              "      <th>WiFi</th>\n",
              "      <th>Dining</th>\n",
              "      <th>Entertainment</th>\n",
              "      <th>Cruise Distance</th>\n",
              "      <th>Gender_Male</th>\n",
              "      <th>Source of Traffic_Direct - Email Marketing</th>\n",
              "      <th>Source of Traffic_Indirect - Search Engine</th>\n",
              "      <th>Source of Traffic_Indirect - Social Media</th>\n",
              "    </tr>\n",
              "  </thead>\n",
              "  <tbody>\n",
              "    <tr>\n",
              "      <th>128306</th>\n",
              "      <td>2.0</td>\n",
              "      <td>2.0</td>\n",
              "      <td>2.0</td>\n",
              "      <td>2.0</td>\n",
              "      <td>3.0</td>\n",
              "      <td>NaN</td>\n",
              "      <td>3.0</td>\n",
              "      <td>3.0</td>\n",
              "      <td>NaN</td>\n",
              "      <td>4.0</td>\n",
              "      <td>...</td>\n",
              "      <td>NaN</td>\n",
              "      <td>30.0</td>\n",
              "      <td>1.0</td>\n",
              "      <td>1</td>\n",
              "      <td>1.0</td>\n",
              "      <td>NaN</td>\n",
              "      <td>1</td>\n",
              "      <td>0</td>\n",
              "      <td>0</td>\n",
              "      <td>0</td>\n",
              "    </tr>\n",
              "    <tr>\n",
              "      <th>19779</th>\n",
              "      <td>5.0</td>\n",
              "      <td>5.0</td>\n",
              "      <td>5.0</td>\n",
              "      <td>5.0</td>\n",
              "      <td>NaN</td>\n",
              "      <td>4.0</td>\n",
              "      <td>NaN</td>\n",
              "      <td>4.0</td>\n",
              "      <td>4.0</td>\n",
              "      <td>4.0</td>\n",
              "      <td>...</td>\n",
              "      <td>3.0</td>\n",
              "      <td>47.0</td>\n",
              "      <td>1.0</td>\n",
              "      <td>1</td>\n",
              "      <td>0.0</td>\n",
              "      <td>1620.00000</td>\n",
              "      <td>0</td>\n",
              "      <td>1</td>\n",
              "      <td>0</td>\n",
              "      <td>0</td>\n",
              "    </tr>\n",
              "    <tr>\n",
              "      <th>107588</th>\n",
              "      <td>NaN</td>\n",
              "      <td>3.0</td>\n",
              "      <td>3.0</td>\n",
              "      <td>3.0</td>\n",
              "      <td>3.0</td>\n",
              "      <td>4.0</td>\n",
              "      <td>4.0</td>\n",
              "      <td>2.0</td>\n",
              "      <td>2.0</td>\n",
              "      <td>NaN</td>\n",
              "      <td>...</td>\n",
              "      <td>NaN</td>\n",
              "      <td>NaN</td>\n",
              "      <td>0.0</td>\n",
              "      <td>1</td>\n",
              "      <td>1.0</td>\n",
              "      <td>5333.35276</td>\n",
              "      <td>1</td>\n",
              "      <td>1</td>\n",
              "      <td>0</td>\n",
              "      <td>0</td>\n",
              "    </tr>\n",
              "    <tr>\n",
              "      <th>129179</th>\n",
              "      <td>5.0</td>\n",
              "      <td>4.0</td>\n",
              "      <td>5.0</td>\n",
              "      <td>3.0</td>\n",
              "      <td>3.0</td>\n",
              "      <td>5.0</td>\n",
              "      <td>3.0</td>\n",
              "      <td>3.0</td>\n",
              "      <td>1.0</td>\n",
              "      <td>4.0</td>\n",
              "      <td>...</td>\n",
              "      <td>3.0</td>\n",
              "      <td>NaN</td>\n",
              "      <td>NaN</td>\n",
              "      <td>0</td>\n",
              "      <td>NaN</td>\n",
              "      <td>580.00000</td>\n",
              "      <td>1</td>\n",
              "      <td>0</td>\n",
              "      <td>0</td>\n",
              "      <td>0</td>\n",
              "    </tr>\n",
              "    <tr>\n",
              "      <th>44639</th>\n",
              "      <td>3.0</td>\n",
              "      <td>3.0</td>\n",
              "      <td>3.0</td>\n",
              "      <td>3.0</td>\n",
              "      <td>NaN</td>\n",
              "      <td>5.0</td>\n",
              "      <td>4.0</td>\n",
              "      <td>4.0</td>\n",
              "      <td>5.0</td>\n",
              "      <td>5.0</td>\n",
              "      <td>...</td>\n",
              "      <td>4.0</td>\n",
              "      <td>29.0</td>\n",
              "      <td>0.0</td>\n",
              "      <td>0</td>\n",
              "      <td>0.0</td>\n",
              "      <td>3419.00000</td>\n",
              "      <td>1</td>\n",
              "      <td>0</td>\n",
              "      <td>0</td>\n",
              "      <td>0</td>\n",
              "    </tr>\n",
              "  </tbody>\n",
              "</table>\n",
              "<p>5 rows × 22 columns</p>\n",
              "</div>"
            ],
            "text/plain": [
              "        Onboard Wifi Service  Embarkation/Disembarkation time convenient  \\\n",
              "128306                   2.0                                         2.0   \n",
              "19779                    5.0                                         5.0   \n",
              "107588                   NaN                                         3.0   \n",
              "129179                   5.0                                         4.0   \n",
              "44639                    3.0                                         3.0   \n",
              "\n",
              "        Ease of Online booking  Gate location  Onboard Dining Service  \\\n",
              "128306                     2.0            2.0                     3.0   \n",
              "19779                      5.0            5.0                     NaN   \n",
              "107588                     3.0            3.0                     3.0   \n",
              "129179                     5.0            3.0                     3.0   \n",
              "44639                      3.0            3.0                     NaN   \n",
              "\n",
              "        Online Check-in  Cabin Comfort  Onboard Entertainment  Cabin service  \\\n",
              "128306              NaN            3.0                    3.0            NaN   \n",
              "19779               4.0            NaN                    4.0            4.0   \n",
              "107588              4.0            4.0                    2.0            2.0   \n",
              "129179              5.0            3.0                    3.0            1.0   \n",
              "44639               5.0            4.0                    4.0            5.0   \n",
              "\n",
              "        Baggage handling  ...  Cleanliness   Age  WiFi  Dining  Entertainment  \\\n",
              "128306               4.0  ...          NaN  30.0   1.0       1            1.0   \n",
              "19779                4.0  ...          3.0  47.0   1.0       1            0.0   \n",
              "107588               NaN  ...          NaN   NaN   0.0       1            1.0   \n",
              "129179               4.0  ...          3.0   NaN   NaN       0            NaN   \n",
              "44639                5.0  ...          4.0  29.0   0.0       0            0.0   \n",
              "\n",
              "        Cruise Distance  Gender_Male  \\\n",
              "128306              NaN            1   \n",
              "19779        1620.00000            0   \n",
              "107588       5333.35276            1   \n",
              "129179        580.00000            1   \n",
              "44639        3419.00000            1   \n",
              "\n",
              "        Source of Traffic_Direct - Email Marketing  \\\n",
              "128306                                           0   \n",
              "19779                                            1   \n",
              "107588                                           1   \n",
              "129179                                           0   \n",
              "44639                                            0   \n",
              "\n",
              "        Source of Traffic_Indirect - Search Engine  \\\n",
              "128306                                           0   \n",
              "19779                                            0   \n",
              "107588                                           0   \n",
              "129179                                           0   \n",
              "44639                                            0   \n",
              "\n",
              "        Source of Traffic_Indirect - Social Media  \n",
              "128306                                          0  \n",
              "19779                                           0  \n",
              "107588                                          0  \n",
              "129179                                          0  \n",
              "44639                                           0  \n",
              "\n",
              "[5 rows x 22 columns]"
            ]
          },
          "execution_count": 8,
          "metadata": {},
          "output_type": "execute_result"
        }
      ],
      "source": [
        "X_train_encoded.head()"
      ]
    },
    {
      "cell_type": "markdown",
      "id": "1d0d9dc5-ccd9-45ba-97a4-d75f6706df29",
      "metadata": {
        "noteable": {
          "cell_type": "markdown"
        }
      },
      "source": [
        "### Filling in Missing Values with KNN Imputation"
      ]
    },
    {
      "cell_type": "code",
      "execution_count": 9,
      "id": "bdc99d94-15f3-43c8-b6fe-c38ac4142c90",
      "metadata": {
        "ExecuteTime": {
          "end_time": "2023-09-17T03:55:25.292453+00:00",
          "start_time": "2023-09-17T03:36:03.827866+00:00"
        },
        "datalink": {
          "36e9de58-5402-49f3-8fe1-0ebbb8b91ff8": {
            "applied_filters": [],
            "dataframe_info": {
              "default_index_used": true,
              "orig_num_cols": 22,
              "orig_num_rows": 5,
              "orig_size_bytes": 920,
              "truncated_num_cols": 22,
              "truncated_num_rows": 5,
              "truncated_size_bytes": 920,
              "truncated_string_columns": []
            },
            "display_id": "36e9de58-5402-49f3-8fe1-0ebbb8b91ff8",
            "dx_settings": {
              "ALLOW_NOTEABLE_ATTRS": true,
              "COLUMN_SAMPLING_METHOD": "outer",
              "DB_LOCATION": ":memory:",
              "DEV_MODE": false,
              "DISPLAY_MAX_COLUMNS": 100,
              "DISPLAY_MAX_ROWS": 50000,
              "DISPLAY_MODE": "simple",
              "ENABLE_ASSIGNMENT": true,
              "ENABLE_DATALINK": true,
              "FLATTEN_COLUMN_VALUES": true,
              "FLATTEN_INDEX_VALUES": false,
              "GENERATE_DEX_METADATA": false,
              "HTML_TABLE_SCHEMA": false,
              "LOG_LEVEL": 30,
              "MAX_RENDER_SIZE_BYTES": 104857600,
              "MAX_STRING_LENGTH": 250,
              "NUM_PAST_SAMPLES_TRACKED": 3,
              "RANDOM_STATE": 12648430,
              "RESET_INDEX_VALUES": false,
              "ROW_SAMPLING_METHOD": "random",
              "SAMPLING_FACTOR": 0.1,
              "SAMPLING_METHOD": "random",
              "STRINGIFY_COLUMN_VALUES": true,
              "STRINGIFY_INDEX_VALUES": false
            },
            "sample_history": [],
            "sampling_time": "2023-09-16T18:38:09.449271",
            "user_variable_name": null,
            "variable_name": "unk_dataframe_7283fd59c6bd4486a08902b95867550e"
          }
        },
        "dx": {
          "fieldMetadata": {},
          "simpleTable": true,
          "updated": 1694889506066,
          "views": []
        },
        "noteable": {
          "cell_type": "code",
          "output_collection_id": "16ae2f31-0353-417a-9b71-c34834902369"
        }
      },
      "outputs": [],
      "source": [
        "# Initialize KNN imputer\n",
        "imputer = KNNImputer(n_neighbors=5)\n",
        "\n",
        "# Impute missing values in training data\n",
        "X_train_imputed = imputer.fit_transform(X_train_encoded)\n",
        "X_test_imputed = imputer.transform(X_test_encoded)\n"
      ]
    },
    {
      "cell_type": "code",
      "execution_count": 11,
      "id": "33ea21b5-7255-4fc2-922b-0abe24198cc3",
      "metadata": {
        "ExecuteTime": {
          "end_time": "2023-09-17T03:55:28.098208+00:00",
          "start_time": "2023-09-17T03:55:25.297689+00:00"
        },
        "datalink": {
          "0f587fe1-80a3-4f5a-8a5f-c842306166bc": {
            "applied_filters": [],
            "dataframe_info": {
              "default_index_used": true,
              "orig_num_cols": 22,
              "orig_num_rows": 5,
              "orig_size_bytes": 920,
              "truncated_num_cols": 22,
              "truncated_num_rows": 5,
              "truncated_size_bytes": 920,
              "truncated_string_columns": []
            },
            "display_id": "0f587fe1-80a3-4f5a-8a5f-c842306166bc",
            "dx_settings": {
              "ALLOW_NOTEABLE_ATTRS": true,
              "COLUMN_SAMPLING_METHOD": "outer",
              "DB_LOCATION": ":memory:",
              "DEV_MODE": false,
              "DISPLAY_MAX_COLUMNS": 100,
              "DISPLAY_MAX_ROWS": 50000,
              "DISPLAY_MODE": "simple",
              "ENABLE_ASSIGNMENT": true,
              "ENABLE_DATALINK": true,
              "FLATTEN_COLUMN_VALUES": true,
              "FLATTEN_INDEX_VALUES": false,
              "GENERATE_DEX_METADATA": false,
              "HTML_TABLE_SCHEMA": false,
              "LOG_LEVEL": 30,
              "MAX_RENDER_SIZE_BYTES": 104857600,
              "MAX_STRING_LENGTH": 250,
              "NUM_PAST_SAMPLES_TRACKED": 3,
              "RANDOM_STATE": 12648430,
              "RESET_INDEX_VALUES": false,
              "ROW_SAMPLING_METHOD": "random",
              "SAMPLING_FACTOR": 0.1,
              "SAMPLING_METHOD": "random",
              "STRINGIFY_COLUMN_VALUES": true,
              "STRINGIFY_INDEX_VALUES": false
            },
            "sample_history": [],
            "sampling_time": "2023-09-16T21:34:54.353763",
            "user_variable_name": null,
            "variable_name": "unk_dataframe_944ce3253a9342ffb47bbb90bbc57181"
          },
          "48f1583a-2995-4a5a-a429-7a77f2f1f9b2": {
            "applied_filters": [],
            "dataframe_info": {
              "default_index_used": true,
              "orig_num_cols": 22,
              "orig_num_rows": 5,
              "orig_size_bytes": 920,
              "truncated_num_cols": 22,
              "truncated_num_rows": 5,
              "truncated_size_bytes": 920,
              "truncated_string_columns": []
            },
            "display_id": "48f1583a-2995-4a5a-a429-7a77f2f1f9b2",
            "dx_settings": {
              "ALLOW_NOTEABLE_ATTRS": true,
              "COLUMN_SAMPLING_METHOD": "outer",
              "DB_LOCATION": ":memory:",
              "DEV_MODE": false,
              "DISPLAY_MAX_COLUMNS": 100,
              "DISPLAY_MAX_ROWS": 50000,
              "DISPLAY_MODE": "simple",
              "ENABLE_ASSIGNMENT": true,
              "ENABLE_DATALINK": true,
              "FLATTEN_COLUMN_VALUES": true,
              "FLATTEN_INDEX_VALUES": false,
              "GENERATE_DEX_METADATA": false,
              "HTML_TABLE_SCHEMA": false,
              "LOG_LEVEL": 30,
              "MAX_RENDER_SIZE_BYTES": 104857600,
              "MAX_STRING_LENGTH": 250,
              "NUM_PAST_SAMPLES_TRACKED": 3,
              "RANDOM_STATE": 12648430,
              "RESET_INDEX_VALUES": false,
              "ROW_SAMPLING_METHOD": "random",
              "SAMPLING_FACTOR": 0.1,
              "SAMPLING_METHOD": "random",
              "STRINGIFY_COLUMN_VALUES": true,
              "STRINGIFY_INDEX_VALUES": false
            },
            "sample_history": [],
            "sampling_time": "2023-09-16T21:07:59.244196",
            "user_variable_name": null,
            "variable_name": "unk_dataframe_a2963d42c7274bbf8dfdb035aa0b7976"
          },
          "4df92bef-83c4-4d29-8ebf-87a3bb5b091b": {
            "applied_filters": [],
            "dataframe_info": {
              "default_index_used": true,
              "orig_num_cols": 22,
              "orig_num_rows": 5,
              "orig_size_bytes": 920,
              "truncated_num_cols": 22,
              "truncated_num_rows": 5,
              "truncated_size_bytes": 920,
              "truncated_string_columns": []
            },
            "display_id": "4df92bef-83c4-4d29-8ebf-87a3bb5b091b",
            "dx_settings": {
              "ALLOW_NOTEABLE_ATTRS": true,
              "COLUMN_SAMPLING_METHOD": "outer",
              "DB_LOCATION": ":memory:",
              "DEV_MODE": false,
              "DISPLAY_MAX_COLUMNS": 100,
              "DISPLAY_MAX_ROWS": 50000,
              "DISPLAY_MODE": "simple",
              "ENABLE_ASSIGNMENT": true,
              "ENABLE_DATALINK": true,
              "FLATTEN_COLUMN_VALUES": true,
              "FLATTEN_INDEX_VALUES": false,
              "GENERATE_DEX_METADATA": false,
              "HTML_TABLE_SCHEMA": false,
              "LOG_LEVEL": 30,
              "MAX_RENDER_SIZE_BYTES": 104857600,
              "MAX_STRING_LENGTH": 250,
              "NUM_PAST_SAMPLES_TRACKED": 3,
              "RANDOM_STATE": 12648430,
              "RESET_INDEX_VALUES": false,
              "ROW_SAMPLING_METHOD": "random",
              "SAMPLING_FACTOR": 0.1,
              "SAMPLING_METHOD": "random",
              "STRINGIFY_COLUMN_VALUES": true,
              "STRINGIFY_INDEX_VALUES": false
            },
            "sample_history": [],
            "sampling_time": "2023-09-16T19:46:49.057338",
            "user_variable_name": null,
            "variable_name": "unk_dataframe_9ae9bd3a7fe44c24ad0a2819d9cd837a"
          },
          "b0c95832-53fc-4538-9431-ec3656747140": {
            "applied_filters": [],
            "dataframe_info": {
              "default_index_used": true,
              "orig_num_cols": 22,
              "orig_num_rows": 5,
              "orig_size_bytes": 920,
              "truncated_num_cols": 22,
              "truncated_num_rows": 5,
              "truncated_size_bytes": 920,
              "truncated_string_columns": []
            },
            "display_id": "b0c95832-53fc-4538-9431-ec3656747140",
            "dx_settings": {
              "ALLOW_NOTEABLE_ATTRS": true,
              "COLUMN_SAMPLING_METHOD": "outer",
              "DB_LOCATION": ":memory:",
              "DEV_MODE": false,
              "DISPLAY_MAX_COLUMNS": 100,
              "DISPLAY_MAX_ROWS": 50000,
              "DISPLAY_MODE": "simple",
              "ENABLE_ASSIGNMENT": true,
              "ENABLE_DATALINK": true,
              "FLATTEN_COLUMN_VALUES": true,
              "FLATTEN_INDEX_VALUES": false,
              "GENERATE_DEX_METADATA": false,
              "HTML_TABLE_SCHEMA": false,
              "LOG_LEVEL": 30,
              "MAX_RENDER_SIZE_BYTES": 104857600,
              "MAX_STRING_LENGTH": 250,
              "NUM_PAST_SAMPLES_TRACKED": 3,
              "RANDOM_STATE": 12648430,
              "RESET_INDEX_VALUES": false,
              "ROW_SAMPLING_METHOD": "random",
              "SAMPLING_FACTOR": 0.1,
              "SAMPLING_METHOD": "random",
              "STRINGIFY_COLUMN_VALUES": true,
              "STRINGIFY_INDEX_VALUES": false
            },
            "sample_history": [],
            "sampling_time": "2023-09-17T03:55:27.935919",
            "user_variable_name": null,
            "variable_name": "unk_dataframe_1c134a1e431e43649933204278650c0e"
          }
        },
        "dx": {
          "fieldMetadata": {},
          "simpleTable": true,
          "updated": 1694898494625,
          "views": []
        },
        "jupyter": {
          "outputs_hidden": false,
          "source_hidden": false
        },
        "noteable": {
          "cell_type": "code",
          "output_collection_id": "db2ba092-cb1d-4892-9e08-7615021d24c8"
        }
      },
      "outputs": [
        {
          "data": {
            "text/html": [
              "<div>\n",
              "<style scoped>\n",
              "    .dataframe tbody tr th:only-of-type {\n",
              "        vertical-align: middle;\n",
              "    }\n",
              "\n",
              "    .dataframe tbody tr th {\n",
              "        vertical-align: top;\n",
              "    }\n",
              "\n",
              "    .dataframe thead th {\n",
              "        text-align: right;\n",
              "    }\n",
              "</style>\n",
              "<table border=\"1\" class=\"dataframe\">\n",
              "  <thead>\n",
              "    <tr style=\"text-align: right;\">\n",
              "      <th></th>\n",
              "      <th>Onboard Wifi Service</th>\n",
              "      <th>Embarkation/Disembarkation time convenient</th>\n",
              "      <th>Ease of Online booking</th>\n",
              "      <th>Gate location</th>\n",
              "      <th>Onboard Dining Service</th>\n",
              "      <th>Online Check-in</th>\n",
              "      <th>Cabin Comfort</th>\n",
              "      <th>Onboard Entertainment</th>\n",
              "      <th>Cabin service</th>\n",
              "      <th>Baggage handling</th>\n",
              "      <th>...</th>\n",
              "      <th>Cleanliness</th>\n",
              "      <th>Age</th>\n",
              "      <th>WiFi</th>\n",
              "      <th>Dining</th>\n",
              "      <th>Entertainment</th>\n",
              "      <th>Cruise Distance</th>\n",
              "      <th>Gender_Male</th>\n",
              "      <th>Source of Traffic_Direct - Email Marketing</th>\n",
              "      <th>Source of Traffic_Indirect - Search Engine</th>\n",
              "      <th>Source of Traffic_Indirect - Social Media</th>\n",
              "    </tr>\n",
              "  </thead>\n",
              "  <tbody>\n",
              "    <tr>\n",
              "      <th>0</th>\n",
              "      <td>2.0</td>\n",
              "      <td>2.0</td>\n",
              "      <td>2.0</td>\n",
              "      <td>2.0</td>\n",
              "      <td>3.0</td>\n",
              "      <td>3.0</td>\n",
              "      <td>3.0</td>\n",
              "      <td>3.0</td>\n",
              "      <td>4.0</td>\n",
              "      <td>4.0</td>\n",
              "      <td>...</td>\n",
              "      <td>3.0</td>\n",
              "      <td>30.0</td>\n",
              "      <td>1.0</td>\n",
              "      <td>1.0</td>\n",
              "      <td>1.0</td>\n",
              "      <td>1540.0</td>\n",
              "      <td>1.0</td>\n",
              "      <td>0.0</td>\n",
              "      <td>0.0</td>\n",
              "      <td>0.0</td>\n",
              "    </tr>\n",
              "    <tr>\n",
              "      <th>1</th>\n",
              "      <td>5.0</td>\n",
              "      <td>5.0</td>\n",
              "      <td>5.0</td>\n",
              "      <td>5.0</td>\n",
              "      <td>4.0</td>\n",
              "      <td>4.0</td>\n",
              "      <td>4.0</td>\n",
              "      <td>4.0</td>\n",
              "      <td>4.0</td>\n",
              "      <td>4.0</td>\n",
              "      <td>...</td>\n",
              "      <td>3.0</td>\n",
              "      <td>47.0</td>\n",
              "      <td>1.0</td>\n",
              "      <td>1.0</td>\n",
              "      <td>0.0</td>\n",
              "      <td>1620.0</td>\n",
              "      <td>0.0</td>\n",
              "      <td>1.0</td>\n",
              "      <td>0.0</td>\n",
              "      <td>0.0</td>\n",
              "    </tr>\n",
              "    <tr>\n",
              "      <th>2</th>\n",
              "      <td>3.0</td>\n",
              "      <td>3.0</td>\n",
              "      <td>3.0</td>\n",
              "      <td>3.0</td>\n",
              "      <td>3.0</td>\n",
              "      <td>4.0</td>\n",
              "      <td>4.0</td>\n",
              "      <td>2.0</td>\n",
              "      <td>2.0</td>\n",
              "      <td>2.0</td>\n",
              "      <td>...</td>\n",
              "      <td>3.0</td>\n",
              "      <td>47.0</td>\n",
              "      <td>0.0</td>\n",
              "      <td>1.0</td>\n",
              "      <td>1.0</td>\n",
              "      <td>5333.0</td>\n",
              "      <td>1.0</td>\n",
              "      <td>1.0</td>\n",
              "      <td>0.0</td>\n",
              "      <td>0.0</td>\n",
              "    </tr>\n",
              "    <tr>\n",
              "      <th>3</th>\n",
              "      <td>5.0</td>\n",
              "      <td>4.0</td>\n",
              "      <td>5.0</td>\n",
              "      <td>3.0</td>\n",
              "      <td>3.0</td>\n",
              "      <td>5.0</td>\n",
              "      <td>3.0</td>\n",
              "      <td>3.0</td>\n",
              "      <td>1.0</td>\n",
              "      <td>4.0</td>\n",
              "      <td>...</td>\n",
              "      <td>3.0</td>\n",
              "      <td>30.0</td>\n",
              "      <td>1.0</td>\n",
              "      <td>0.0</td>\n",
              "      <td>1.0</td>\n",
              "      <td>580.0</td>\n",
              "      <td>1.0</td>\n",
              "      <td>0.0</td>\n",
              "      <td>0.0</td>\n",
              "      <td>0.0</td>\n",
              "    </tr>\n",
              "    <tr>\n",
              "      <th>4</th>\n",
              "      <td>3.0</td>\n",
              "      <td>3.0</td>\n",
              "      <td>3.0</td>\n",
              "      <td>3.0</td>\n",
              "      <td>3.0</td>\n",
              "      <td>5.0</td>\n",
              "      <td>4.0</td>\n",
              "      <td>4.0</td>\n",
              "      <td>5.0</td>\n",
              "      <td>5.0</td>\n",
              "      <td>...</td>\n",
              "      <td>4.0</td>\n",
              "      <td>29.0</td>\n",
              "      <td>0.0</td>\n",
              "      <td>0.0</td>\n",
              "      <td>0.0</td>\n",
              "      <td>3419.0</td>\n",
              "      <td>1.0</td>\n",
              "      <td>0.0</td>\n",
              "      <td>0.0</td>\n",
              "      <td>0.0</td>\n",
              "    </tr>\n",
              "  </tbody>\n",
              "</table>\n",
              "<p>5 rows × 22 columns</p>\n",
              "</div>"
            ],
            "text/plain": [
              "   Onboard Wifi Service  Embarkation/Disembarkation time convenient  \\\n",
              "0                   2.0                                         2.0   \n",
              "1                   5.0                                         5.0   \n",
              "2                   3.0                                         3.0   \n",
              "3                   5.0                                         4.0   \n",
              "4                   3.0                                         3.0   \n",
              "\n",
              "   Ease of Online booking  Gate location  Onboard Dining Service  \\\n",
              "0                     2.0            2.0                     3.0   \n",
              "1                     5.0            5.0                     4.0   \n",
              "2                     3.0            3.0                     3.0   \n",
              "3                     5.0            3.0                     3.0   \n",
              "4                     3.0            3.0                     3.0   \n",
              "\n",
              "   Online Check-in  Cabin Comfort  Onboard Entertainment  Cabin service  \\\n",
              "0              3.0            3.0                    3.0            4.0   \n",
              "1              4.0            4.0                    4.0            4.0   \n",
              "2              4.0            4.0                    2.0            2.0   \n",
              "3              5.0            3.0                    3.0            1.0   \n",
              "4              5.0            4.0                    4.0            5.0   \n",
              "\n",
              "   Baggage handling  ...  Cleanliness   Age  WiFi  Dining  Entertainment  \\\n",
              "0               4.0  ...          3.0  30.0   1.0     1.0            1.0   \n",
              "1               4.0  ...          3.0  47.0   1.0     1.0            0.0   \n",
              "2               2.0  ...          3.0  47.0   0.0     1.0            1.0   \n",
              "3               4.0  ...          3.0  30.0   1.0     0.0            1.0   \n",
              "4               5.0  ...          4.0  29.0   0.0     0.0            0.0   \n",
              "\n",
              "   Cruise Distance  Gender_Male  Source of Traffic_Direct - Email Marketing  \\\n",
              "0           1540.0          1.0                                         0.0   \n",
              "1           1620.0          0.0                                         1.0   \n",
              "2           5333.0          1.0                                         1.0   \n",
              "3            580.0          1.0                                         0.0   \n",
              "4           3419.0          1.0                                         0.0   \n",
              "\n",
              "   Source of Traffic_Indirect - Search Engine  \\\n",
              "0                                         0.0   \n",
              "1                                         0.0   \n",
              "2                                         0.0   \n",
              "3                                         0.0   \n",
              "4                                         0.0   \n",
              "\n",
              "   Source of Traffic_Indirect - Social Media  \n",
              "0                                        0.0  \n",
              "1                                        0.0  \n",
              "2                                        0.0  \n",
              "3                                        0.0  \n",
              "4                                        0.0  \n",
              "\n",
              "[5 rows x 22 columns]"
            ]
          },
          "execution_count": 11,
          "metadata": {},
          "output_type": "execute_result"
        }
      ],
      "source": [
        "# Round the imputed values to integers \n",
        "X_train_imputed = np.round(X_train_imputed)\n",
        "X_test_imputed = np.round(X_test_imputed)\n",
        "\n",
        "# Convert imputed data back to DataFrame\n",
        "X_train = pd.DataFrame(X_train_imputed, columns=X_train_encoded.columns)\n",
        "X_test = pd.DataFrame(X_test_imputed, columns=X_test_encoded.columns)\n",
        "\n",
        "# Display the first 5 rows of the imputed training data\n",
        "X_train.head()"
      ]
    },
    {
      "cell_type": "markdown",
      "id": "913058c3",
      "metadata": {},
      "source": [
        "As our main objective is to predict what type of tickets potential customers will purchase, post-trip features will not be relevant as the survey is only done after purchase of tickets as we will not have those information at the purchasing stage. We have utilized these features for imputation of our other features in the pre-purchase data, so we will drop them off here. "
      ]
    },
    {
      "cell_type": "code",
      "execution_count": 12,
      "id": "90b704c3",
      "metadata": {},
      "outputs": [],
      "source": [
        "# Removing post trip columns since they will not be available to our predictor model in real use case\n",
        "\n",
        "columns_to_remove = ['Cruise Distance', 'WiFi','Dining','Entertainment']\n",
        "X_train = X_train.drop(columns_to_remove, axis=1)\n",
        "X_test = X_test.drop(columns_to_remove, axis=1)"
      ]
    },
    {
      "cell_type": "markdown",
      "id": "a1e6b2f2-cd6d-43b5-80b3-0a8713bb6f46",
      "metadata": {
        "noteable": {
          "cell_type": "markdown"
        }
      },
      "source": [
        "#### Scaling our input features"
      ]
    },
    {
      "cell_type": "code",
      "execution_count": 13,
      "id": "855c81ce-b165-4d7e-8d62-fad4a616c8fc",
      "metadata": {
        "ExecuteTime": {
          "end_time": "2023-09-17T03:55:28.335214+00:00",
          "start_time": "2023-09-17T03:55:28.103541+00:00"
        },
        "jupyter": {
          "outputs_hidden": false,
          "source_hidden": false
        },
        "noteable": {
          "cell_type": "code",
          "output_collection_id": "9db91880-e230-4b20-984b-559ed1a711bd"
        }
      },
      "outputs": [],
      "source": [
        "# We will scale our input features since 'Age' differs largely with the rest\n",
        "# As there are outliers seen in our data and we do not want to remove the outliers due to our data size being limited enough already, we will use RobustScaler, which scales features based on their median and interquartile range, making it robust to outliers\n",
        "\n",
        "# Instantiate the scaler\n",
        "scaler = RobustScaler()\n",
        "\n",
        "# Fit the scaler on your training data and transform it\n",
        "X_train_scaled = scaler.fit_transform(X_train)\n",
        "\n",
        "# Transform your test data using the same scaler\n",
        "X_test_scaled = scaler.transform(X_test)\n",
        "\n"
      ]
    },
    {
      "cell_type": "code",
      "execution_count": 14,
      "id": "e13b8728-a55d-4c73-b86d-bda91e106d3a",
      "metadata": {
        "ExecuteTime": {
          "end_time": "2023-09-17T03:55:28.522086+00:00",
          "start_time": "2023-09-17T03:55:28.340888+00:00"
        },
        "jupyter": {
          "outputs_hidden": false,
          "source_hidden": false
        },
        "noteable": {
          "cell_type": "code",
          "output_collection_id": "8cdef13e-96ff-4db8-b7dc-db2cf4849d5b"
        }
      },
      "outputs": [],
      "source": [
        "# Encode the target variable\n",
        "label_encoder = LabelEncoder()\n",
        "y_train_encoded = label_encoder.fit_transform(y_train)\n",
        "y_test_encoded = label_encoder.transform(y_test)"
      ]
    },
    {
      "cell_type": "markdown",
      "id": "7999b6de-4dbf-4751-a384-30263e0041a1",
      "metadata": {
        "noteable": {
          "cell_type": "markdown"
        }
      },
      "source": [
        "#### Creating a Baseline Model"
      ]
    },
    {
      "cell_type": "code",
      "execution_count": 15,
      "id": "8e7e38d3-aeaf-4d8f-b49c-c54def6e9326",
      "metadata": {
        "ExecuteTime": {
          "end_time": "2023-09-17T03:55:42.694889+00:00",
          "start_time": "2023-09-17T03:55:28.527214+00:00"
        },
        "noteable": {
          "cell_type": "code",
          "output_collection_id": "ea093490-d042-4591-82b3-3844c6a5b1bb"
        }
      },
      "outputs": [
        {
          "name": "stdout",
          "output_type": "stream",
          "text": [
            "Baseline Model Accuracy: 63.81%\n",
            "              precision    recall  f1-score   support\n",
            "\n",
            "      Deluxe       0.00      0.00      0.00      1743\n",
            "      Luxury       0.67      0.69      0.68     11514\n",
            "    Standard       0.61      0.69      0.64     10800\n",
            "\n",
            "    accuracy                           0.64     24057\n",
            "   macro avg       0.43      0.46      0.44     24057\n",
            "weighted avg       0.59      0.64      0.61     24057\n",
            "\n"
          ]
        },
        {
          "name": "stderr",
          "output_type": "stream",
          "text": [
            "c:\\Mamba\\envs\\aida_interview\\lib\\site-packages\\sklearn\\metrics\\_classification.py:1344: UndefinedMetricWarning: Precision and F-score are ill-defined and being set to 0.0 in labels with no predicted samples. Use `zero_division` parameter to control this behavior.\n",
            "  _warn_prf(average, modifier, msg_start, len(result))\n",
            "c:\\Mamba\\envs\\aida_interview\\lib\\site-packages\\sklearn\\metrics\\_classification.py:1344: UndefinedMetricWarning: Precision and F-score are ill-defined and being set to 0.0 in labels with no predicted samples. Use `zero_division` parameter to control this behavior.\n",
            "  _warn_prf(average, modifier, msg_start, len(result))\n",
            "c:\\Mamba\\envs\\aida_interview\\lib\\site-packages\\sklearn\\metrics\\_classification.py:1344: UndefinedMetricWarning: Precision and F-score are ill-defined and being set to 0.0 in labels with no predicted samples. Use `zero_division` parameter to control this behavior.\n",
            "  _warn_prf(average, modifier, msg_start, len(result))\n"
          ]
        }
      ],
      "source": [
        "# Initialize and train the logistic regression model\n",
        "logreg = LogisticRegression(max_iter=1000)\n",
        "logreg.fit(X_train_scaled, y_train_encoded)\n",
        "\n",
        "# Predict on the test set\n",
        "y_pred = logreg.predict(X_test_scaled)\n",
        "\n",
        "# Calculate and print the accuracy\n",
        "accuracy = accuracy_score(y_test_encoded, y_pred)\n",
        "print(f'Baseline Model Accuracy: {accuracy * 100:.2f}%')\n",
        "\n",
        "# Display the classification report\n",
        "print(classification_report(y_test_encoded, y_pred, target_names=label_encoder.classes_))"
      ]
    },
    {
      "cell_type": "code",
      "execution_count": 16,
      "id": "5052b054-c6d3-4ae9-89ce-cad75791458b",
      "metadata": {
        "jupyter": {
          "outputs_hidden": false,
          "source_hidden": false
        },
        "noteable": {
          "cell_type": "code"
        }
      },
      "outputs": [],
      "source": [
        "# Convert NumPy arrays to DataFrames\n",
        "X_train_scaled_df = pd.DataFrame(X_train_scaled, columns=X_train.columns)\n",
        "y_train_encoded_df = pd.DataFrame(y_train_encoded, columns=['target_column_name'])  # Replace 'target_column_name' with your actual target column name\n",
        "X_test_scaled_df = pd.DataFrame(X_test_scaled, columns=X_test.columns)\n",
        "\n",
        "# Save DataFrames to CSV files\n",
        "X_train_scaled_df.to_csv('data/X_train.csv', index=False)\n",
        "y_train_encoded_df.to_csv('data/y_train_encoded.csv', index=False)\n",
        "X_test_scaled_df.to_csv('data/X_test.csv', index=False)\n"
      ]
    },
    {
      "cell_type": "code",
      "execution_count": 17,
      "id": "8d780015-15c2-49c0-8922-52affa01c248",
      "metadata": {
        "ExecuteTime": {
          "end_time": "2023-09-17T04:01:32.011387+00:00",
          "start_time": "2023-09-17T04:01:21.365742+00:00"
        },
        "noteable": {
          "cell_type": "code",
          "output_collection_id": "b32e3fad-03ca-43f9-8b62-8865dbcd77a2"
        }
      },
      "outputs": [
        {
          "name": "stdout",
          "output_type": "stream",
          "text": [
            "Random Forest Model Accuracy: 81.62%\n",
            "              precision    recall  f1-score   support\n",
            "\n",
            "      Deluxe       0.67      0.09      0.16      1743\n",
            "      Luxury       0.88      0.86      0.87     11514\n",
            "    Standard       0.77      0.89      0.82     10800\n",
            "\n",
            "    accuracy                           0.82     24057\n",
            "   macro avg       0.77      0.61      0.62     24057\n",
            "weighted avg       0.81      0.82      0.80     24057\n",
            "\n"
          ]
        }
      ],
      "source": [
        "# Initialize and train the Random Forest model\n",
        "rf = RandomForestClassifier(class_weight='balanced', random_state=42)\n",
        "rf.fit(X_train_scaled, y_train_encoded)\n",
        "\n",
        "# Predict on the test set using Random Forest\n",
        "y_pred_rf = rf.predict(X_test_scaled)\n",
        "\n",
        "# Calculate and print the accuracy for Random Forest\n",
        "accuracy_rf = accuracy_score(y_test_encoded, y_pred_rf)\n",
        "print(f'Random Forest Model Accuracy: {accuracy_rf * 100:.2f}%')\n",
        "print(classification_report(y_test_encoded, y_pred_rf, target_names=label_encoder.classes_))\n",
        "\n"
      ]
    },
    {
      "cell_type": "code",
      "execution_count": 18,
      "id": "854b2f5e-b7ec-489f-82c1-f1a61eed7115",
      "metadata": {
        "ExecuteTime": {
          "end_time": "2023-09-17T04:01:47.060104+00:00",
          "start_time": "2023-09-17T04:01:37.630970+00:00"
        },
        "jupyter": {
          "outputs_hidden": true,
          "source_hidden": false
        },
        "noteable": {
          "cell_type": "code",
          "output_collection_id": "d36b0840-3379-4a8a-9b8a-708f666d79a5"
        }
      },
      "outputs": [
        {
          "name": "stdout",
          "output_type": "stream",
          "text": [
            "Requirement already satisfied: xgboost in c:\\mamba\\envs\\aida_interview\\lib\\site-packages (2.0.0)\n",
            "Requirement already satisfied: numpy in c:\\mamba\\envs\\aida_interview\\lib\\site-packages (from xgboost) (1.23.5)\n",
            "Requirement already satisfied: scipy in c:\\mamba\\envs\\aida_interview\\lib\\site-packages (from xgboost) (1.10.1)\n"
          ]
        }
      ],
      "source": []
    },
    {
      "cell_type": "code",
      "execution_count": 19,
      "id": "29405e58-3833-4ad3-803a-6ad04ca766c0",
      "metadata": {
        "ExecuteTime": {
          "end_time": "2023-09-17T04:01:49.777369+00:00",
          "start_time": "2023-09-17T04:01:47.126705+00:00"
        },
        "jupyter": {
          "outputs_hidden": false,
          "source_hidden": false
        },
        "noteable": {
          "cell_type": "code",
          "output_collection_id": "af0c2bcf-0081-4cbf-b2cf-55c664ce2718"
        }
      },
      "outputs": [
        {
          "name": "stderr",
          "output_type": "stream",
          "text": [
            "c:\\Mamba\\envs\\aida_interview\\lib\\site-packages\\xgboost\\core.py:160: UserWarning: [22:19:02] WARNING: C:\\buildkite-agent\\builds\\buildkite-windows-cpu-autoscaling-group-i-0cec3277c4d9d0165-1\\xgboost\\xgboost-ci-windows\\src\\learner.cc:742: \n",
            "Parameters: { \"scale_pos_weight\" } are not used.\n",
            "\n",
            "  warnings.warn(smsg, UserWarning)\n"
          ]
        },
        {
          "name": "stdout",
          "output_type": "stream",
          "text": [
            "XGBoost Model Accuracy: 81.24%\n",
            "              precision    recall  f1-score   support\n",
            "\n",
            "      Deluxe       0.39      0.02      0.03      1743\n",
            "      Luxury       0.86      0.87      0.87     11514\n",
            "    Standard       0.77      0.88      0.82     10800\n",
            "\n",
            "    accuracy                           0.81     24057\n",
            "   macro avg       0.67      0.59      0.57     24057\n",
            "weighted avg       0.79      0.81      0.78     24057\n",
            "\n"
          ]
        }
      ],
      "source": [
        "# Initialize and train the XGBoost model\n",
        "xgb = XGBClassifier(scale_pos_weight=20, random_state=42)\n",
        "xgb.fit(X_train_scaled, y_train_encoded)\n",
        "\n",
        "# Predict on the test set using XGBoost\n",
        "y_pred_xgb = xgb.predict(X_test_scaled)\n",
        "\n",
        "# Calculate and print the accuracy for XGBoost\n",
        "accuracy_xgb = accuracy_score(y_test_encoded, y_pred_xgb)\n",
        "print(f'XGBoost Model Accuracy: {accuracy_xgb * 100:.2f}%')\n",
        "print(classification_report(y_test_encoded, y_pred_xgb, target_names=label_encoder.classes_))"
      ]
    },
    {
      "cell_type": "markdown",
      "id": "97706074-cfb5-4709-b138-577b0bbda817",
      "metadata": {
        "noteable": {
          "cell_type": "markdown"
        }
      },
      "source": [
        "### Resampling & Hyperparameter Tuning\n",
        "\n",
        "Since our target variable class is imbalanced, we will first use resampling in an attempt to improve our better performing models. "
      ]
    },
    {
      "cell_type": "code",
      "execution_count": 25,
      "id": "e2323d11-9aef-474b-9f59-0641688fd7a1",
      "metadata": {
        "ExecuteTime": {
          "end_time": "2023-09-17T04:03:25.522680+00:00",
          "start_time": "2023-09-17T04:03:22.831902+00:00"
        },
        "noteable": {
          "cell_type": "code",
          "output_collection_id": "e3266765-022f-4b82-8104-85adda6b913c"
        }
      },
      "outputs": [],
      "source": []
    },
    {
      "cell_type": "code",
      "execution_count": 26,
      "id": "f1205107-340e-4eca-a51d-e0aa462d3831",
      "metadata": {
        "ExecuteTime": {
          "end_time": "2023-09-17T04:12:28.079015+00:00",
          "start_time": "2023-09-17T04:12:21.053896+00:00"
        },
        "datalink": {
          "513fdc84-1fa1-421e-b656-92fca8107cdb": {
            "applied_filters": [],
            "dataframe_info": {
              "default_index_used": false,
              "orig_num_cols": 1,
              "orig_num_rows": 3,
              "orig_size_bytes": 48,
              "truncated_num_cols": 1,
              "truncated_num_rows": 3,
              "truncated_size_bytes": 48,
              "truncated_string_columns": []
            },
            "display_id": "513fdc84-1fa1-421e-b656-92fca8107cdb",
            "dx_settings": {
              "ALLOW_NOTEABLE_ATTRS": true,
              "COLUMN_SAMPLING_METHOD": "outer",
              "DB_LOCATION": ":memory:",
              "DEV_MODE": false,
              "DISPLAY_MAX_COLUMNS": 100,
              "DISPLAY_MAX_ROWS": 50000,
              "DISPLAY_MODE": "simple",
              "ENABLE_ASSIGNMENT": true,
              "ENABLE_DATALINK": true,
              "FLATTEN_COLUMN_VALUES": true,
              "FLATTEN_INDEX_VALUES": false,
              "GENERATE_DEX_METADATA": false,
              "HTML_TABLE_SCHEMA": false,
              "LOG_LEVEL": 30,
              "MAX_RENDER_SIZE_BYTES": 104857600,
              "MAX_STRING_LENGTH": 250,
              "NUM_PAST_SAMPLES_TRACKED": 3,
              "RANDOM_STATE": 12648430,
              "RESET_INDEX_VALUES": false,
              "ROW_SAMPLING_METHOD": "random",
              "SAMPLING_FACTOR": 0.1,
              "SAMPLING_METHOD": "random",
              "STRINGIFY_COLUMN_VALUES": true,
              "STRINGIFY_INDEX_VALUES": false
            },
            "sample_history": [],
            "sampling_time": "2023-09-16T22:52:26.174892",
            "user_variable_name": null,
            "variable_name": "unk_dataframe_be7cff0e6c444d908112417f8bd835ad"
          }
        },
        "dx": {
          "fieldMetadata": {},
          "simpleTable": true,
          "updated": 1694904764565,
          "views": []
        },
        "noteable": {
          "cell_type": "code",
          "output_collection_id": "28efdfab-4e33-46a7-bec6-4ad80581306e"
        }
      },
      "outputs": [],
      "source": [
        "# Initialize SMOTE\n",
        "smote = SMOTE(sampling_strategy='auto', random_state=42)\n",
        "\n",
        "# Resample the training data prior to scaling\n",
        "X_train_resampled, y_train_resampled = smote.fit_resample(X_train, y_train_encoded)\n"
      ]
    },
    {
      "cell_type": "code",
      "execution_count": 27,
      "id": "2b7659ba-0f61-4177-a06e-cf5d04a3c7dc",
      "metadata": {
        "ExecuteTime": {
          "end_time": "2023-09-17T04:12:28.258444+00:00",
          "start_time": "2023-09-17T04:12:28.084956+00:00"
        },
        "jupyter": {
          "outputs_hidden": false,
          "source_hidden": false
        },
        "noteable": {
          "cell_type": "code",
          "output_collection_id": "77662faa-a9b2-4202-aa56-868eb45a3492"
        }
      },
      "outputs": [
        {
          "name": "stdout",
          "output_type": "stream",
          "text": [
            "{0: 46056, 1: 46056, 2: 46056}\n"
          ]
        }
      ],
      "source": [
        "# Count the frequency of unique values in y_train_resampled\n",
        "unique_values, counts = np.unique(y_train_resampled, return_counts=True)\n",
        "\n",
        "# Create a dictionary to represent the distribution\n",
        "distribution = dict(zip(unique_values, counts))\n",
        "\n",
        "# Print the distribution\n",
        "print(distribution)"
      ]
    },
    {
      "cell_type": "code",
      "execution_count": 28,
      "id": "8338e6a2-3f25-48c8-926c-8c327fa7179e",
      "metadata": {
        "ExecuteTime": {
          "end_time": "2023-09-17T04:19:18.352102+00:00",
          "start_time": "2023-09-17T04:19:18.106167+00:00"
        },
        "jupyter": {
          "outputs_hidden": false,
          "source_hidden": false
        },
        "noteable": {
          "cell_type": "code",
          "output_collection_id": "56b7fd64-e97c-4fe6-bcdd-aa033790ce97"
        }
      },
      "outputs": [],
      "source": [
        "# Fit the scaler on resampled training data and transform it\n",
        "X_train_resampled_scaled = scaler.fit_transform(X_train_resampled)"
      ]
    },
    {
      "cell_type": "code",
      "execution_count": 29,
      "id": "8389b429-0741-4fb3-8815-a39c0cd74fa6",
      "metadata": {
        "ExecuteTime": {
          "end_time": "2023-09-17T04:19:51.364612+00:00",
          "start_time": "2023-09-17T04:19:22.223836+00:00"
        },
        "noteable": {
          "cell_type": "code",
          "output_collection_id": "4fc4113e-7ced-477d-b996-3a3222e0d50b"
        }
      },
      "outputs": [],
      "source": [
        "# Initialize the classifiers\n",
        "rf_clf_resampled = RandomForestClassifier(random_state=42)\n",
        "xgb_clf_resampled = XGBClassifier(random_state=42)\n",
        "\n",
        "# Train the classifiers on the resampled data\n",
        "rf_clf_resampled.fit(X_train_resampled_scaled, y_train_resampled)\n",
        "xgb_clf_resampled.fit(X_train_resampled_scaled, y_train_resampled)\n",
        "\n",
        "# Predict on the test set\n",
        "rf_preds_resampled = rf_clf_resampled.predict(X_test_scaled)\n",
        "xgb_preds_resampled = xgb_clf_resampled.predict(X_test_scaled)\n",
        "\n"
      ]
    },
    {
      "cell_type": "code",
      "execution_count": 30,
      "id": "3c52b148-3ac8-42fc-ac86-38f14a4a3f49",
      "metadata": {
        "ExecuteTime": {
          "end_time": "2023-09-17T04:19:52.556140+00:00",
          "start_time": "2023-09-17T04:19:51.370160+00:00"
        },
        "jupyter": {
          "outputs_hidden": false,
          "source_hidden": false
        },
        "noteable": {
          "cell_type": "code",
          "output_collection_id": "e2bb80c6-b452-4cd8-bd75-7b6d1c0dccc6"
        }
      },
      "outputs": [],
      "source": [
        "# Decode the predicted labels\n",
        "rf_decoded_preds_resampled = label_encoder.inverse_transform(rf_preds_resampled)\n",
        "xgb_decoded_preds_resampled = label_encoder.inverse_transform(xgb_preds_resampled)\n",
        "\n",
        "# Calculate accuracy\n",
        "rf_acc_resampled = accuracy_score(y_test, rf_decoded_preds_resampled) * 100\n",
        "xgb_acc_resampled = accuracy_score(y_test, xgb_decoded_preds_resampled) * 100\n",
        "\n",
        "# Generate classification reports\n",
        "rf_report_resampled = classification_report(y_test, rf_decoded_preds_resampled, target_names=label_encoder.classes_)\n",
        "xgb_report_resampled = classification_report(y_test, xgb_decoded_preds_resampled, target_names=label_encoder.classes_)\n",
        "\n"
      ]
    },
    {
      "cell_type": "code",
      "execution_count": 31,
      "id": "243d4489-1aec-4009-b537-126608ac483e",
      "metadata": {
        "ExecuteTime": {
          "end_time": "2023-09-17T04:19:52.751848+00:00",
          "start_time": "2023-09-17T04:19:52.561896+00:00"
        },
        "jupyter": {
          "outputs_hidden": false,
          "source_hidden": false
        },
        "noteable": {
          "cell_type": "code",
          "output_collection_id": "bb63661b-3dc8-4dfc-bafb-46c3b21c3386"
        }
      },
      "outputs": [
        {
          "name": "stdout",
          "output_type": "stream",
          "text": [
            "Resampled Random Forest Model Accuracy: 61.790746975932166\n",
            "              precision    recall  f1-score   support\n",
            "\n",
            "      Deluxe       0.08      0.25      0.12      1743\n",
            "      Luxury       0.89      0.50      0.64     11514\n",
            "    Standard       0.71      0.80      0.75     10800\n",
            "\n",
            "    accuracy                           0.62     24057\n",
            "   macro avg       0.56      0.52      0.51     24057\n",
            "weighted avg       0.75      0.62      0.65     24057\n",
            "\n"
          ]
        }
      ],
      "source": [
        "print(f'Resampled Random Forest Model Accuracy:',rf_acc_resampled)\n",
        "print(rf_report_resampled)"
      ]
    },
    {
      "cell_type": "code",
      "execution_count": 32,
      "id": "0c2d3556-ce44-45ef-a5ff-e25c14e97c09",
      "metadata": {
        "ExecuteTime": {
          "end_time": "2023-09-17T04:22:07.741205+00:00",
          "start_time": "2023-09-17T04:22:07.586350+00:00"
        },
        "jupyter": {
          "outputs_hidden": false,
          "source_hidden": false
        },
        "noteable": {
          "cell_type": "code",
          "output_collection_id": "f803cdf2-0d16-45bc-b620-3108345a2c30"
        }
      },
      "outputs": [
        {
          "name": "stdout",
          "output_type": "stream",
          "text": [
            "Resampled XGBoost Model Accuracy 66.92854470632248\n",
            "              precision    recall  f1-score   support\n",
            "\n",
            "      Deluxe       0.13      0.33      0.18      1743\n",
            "      Luxury       0.86      0.72      0.78     11514\n",
            "    Standard       0.73      0.67      0.70     10800\n",
            "\n",
            "    accuracy                           0.67     24057\n",
            "   macro avg       0.57      0.57      0.56     24057\n",
            "weighted avg       0.75      0.67      0.70     24057\n",
            "\n"
          ]
        }
      ],
      "source": [
        "print(f'Resampled XGBoost Model Accuracy', xgb_acc_resampled)\n",
        "print(xgb_report_resampled)"
      ]
    },
    {
      "cell_type": "markdown",
      "id": "f5d692a8-5e52-44d5-8e1f-f6fc50e558fb",
      "metadata": {
        "noteable": {
          "cell_type": "markdown"
        }
      },
      "source": [
        "Models performed worse after resampling. We will perform hyperparameter tuning instead. "
      ]
    },
    {
      "cell_type": "code",
      "execution_count": 33,
      "id": "ea9aec81-645d-417f-9235-8b52e553b7cf",
      "metadata": {
        "ExecuteTime": {
          "end_time": "2023-09-17T04:09:19.953599+00:00",
          "start_time": "2023-09-17T04:07:04.373156+00:00"
        },
        "noteable": {
          "cell_type": "python",
          "output_collection_id": "84c405e0-8be0-4fca-a299-9b10675360c1"
        }
      },
      "outputs": [
        {
          "name": "stdout",
          "output_type": "stream",
          "text": [
            "Fitting 2 folds for each of 50 candidates, totalling 100 fits\n"
          ]
        },
        {
          "name": "stderr",
          "output_type": "stream",
          "text": [
            "c:\\Mamba\\envs\\aida_interview\\lib\\site-packages\\sklearn\\ensemble\\_forest.py:424: FutureWarning: `max_features='auto'` has been deprecated in 1.1 and will be removed in 1.3. To keep the past behaviour, explicitly set `max_features='sqrt'` or remove this parameter as it is also the default value for RandomForestClassifiers and ExtraTreesClassifiers.\n",
            "  warn(\n"
          ]
        },
        {
          "data": {
            "text/plain": [
              "{'n_estimators': 100,\n",
              " 'min_samples_split': 10,\n",
              " 'min_samples_leaf': 1,\n",
              " 'max_features': 'auto',\n",
              " 'max_depth': None,\n",
              " 'bootstrap': False}"
            ]
          },
          "execution_count": 33,
          "metadata": {},
          "output_type": "execute_result"
        }
      ],
      "source": [
        "# Due to time constraints, we will use RandomSearchCV\n",
        "\n",
        "# Define a smaller parameter grid\n",
        "param_distributions = {\n",
        "    'n_estimators': [50, 100, 200],\n",
        "    'max_features': ['auto', 'sqrt'],\n",
        "    'max_depth': [10, 20, 30, None],\n",
        "    'min_samples_split': [2, 10],\n",
        "    'min_samples_leaf': [1, 4],\n",
        "    'bootstrap': [True, False]\n",
        "}\n",
        "\n",
        "# Choosing Random Forest which performed slightly better\n",
        "rf = RandomForestClassifier()\n",
        "\n",
        "# Instantiate the randomized search model\n",
        "random_search = RandomizedSearchCV(estimator=rf, param_distributions=param_distributions,\n",
        "                                   n_iter=50, cv=2, n_jobs=-1, verbose=2, scoring='accuracy')\n",
        "\n",
        "# Fit the random search to the data\n",
        "random_search.fit(X_train_scaled, y_train_encoded)\n",
        "\n",
        "# Get the best parameters\n",
        "best_params = random_search.best_params_\n",
        "best_params\n"
      ]
    },
    {
      "cell_type": "code",
      "execution_count": 43,
      "id": "1093b2a7-d570-4829-abd5-6214772dce44",
      "metadata": {
        "ExecuteTime": {
          "end_time": "2023-09-17T04:29:52.271857+00:00",
          "start_time": "2023-09-17T04:29:22.835247+00:00"
        },
        "jupyter": {
          "outputs_hidden": false,
          "source_hidden": false
        },
        "noteable": {
          "cell_type": "code",
          "output_collection_id": "3418f153-0a0c-4207-aab3-906864745183"
        }
      },
      "outputs": [
        {
          "name": "stderr",
          "output_type": "stream",
          "text": [
            "c:\\Mamba\\envs\\aida_interview\\lib\\site-packages\\sklearn\\ensemble\\_forest.py:424: FutureWarning: `max_features='auto'` has been deprecated in 1.1 and will be removed in 1.3. To keep the past behaviour, explicitly set `max_features='sqrt'` or remove this parameter as it is also the default value for RandomForestClassifiers and ExtraTreesClassifiers.\n",
            "  warn(\n"
          ]
        },
        {
          "name": "stdout",
          "output_type": "stream",
          "text": [
            "Best Params Random Forest Accuracy: 82.11%\n",
            "\n",
            "Classification Report:\n",
            "               precision    recall  f1-score   support\n",
            "\n",
            "      Deluxe       0.87      0.06      0.12      1743\n",
            "      Luxury       0.88      0.86      0.87     11514\n",
            "    Standard       0.77      0.90      0.83     10800\n",
            "\n",
            "    accuracy                           0.82     24057\n",
            "   macro avg       0.84      0.61      0.61     24057\n",
            "weighted avg       0.83      0.82      0.80     24057\n",
            "\n"
          ]
        }
      ],
      "source": [
        "# Initialize the classifier with the best parameters\n",
        "rf_best = RandomForestClassifier(n_estimators=200, min_samples_split=10, min_samples_leaf=1,\n",
        "                                 max_features='auto', max_depth=30, bootstrap=False, random_state=42)\n",
        "\n",
        "# Train the classifier\n",
        "rf_best.fit(X_train_scaled, y_train_encoded)\n",
        "\n",
        "# Predict on the test data\n",
        "y_pred_rf_best = rf_best.predict(X_test_scaled)\n",
        "\n",
        "# Evaluate the model\n",
        "accuracy = accuracy_score(y_test_encoded, y_pred_rf_best)\n",
        "print(f\"Best Params Random Forest Accuracy: {accuracy*100:.2f}%\")\n",
        "print(\"\\nClassification Report:\\n\", classification_report(y_test_encoded, y_pred_rf_best, target_names=label_encoder.classes_))\n"
      ]
    },
    {
      "cell_type": "code",
      "execution_count": 35,
      "id": "925bad74",
      "metadata": {},
      "outputs": [
        {
          "name": "stdout",
          "output_type": "stream",
          "text": [
            "Fitting 5 folds for each of 100 candidates, totalling 500 fits\n",
            "Best Parameters: {'subsample': 0.7, 'n_estimators': 700, 'min_child_weight': 9, 'max_depth': 9, 'learning_rate': 0.05, 'gamma': 0.2, 'colsample_bytree': 0.9}\n"
          ]
        }
      ],
      "source": [
        "# Define the parameter grid\n",
        "param_dist = {\n",
        "    'n_estimators': np.arange(50, 1000, 50),\n",
        "    'learning_rate': [0.01, 0.05, 0.1, 0.2, 0.3],\n",
        "    'max_depth': np.arange(3, 10, 1),\n",
        "    'colsample_bytree': [0.5, 0.7, 0.8, 0.9, 1],\n",
        "    'subsample': [0.5, 0.7, 0.8, 0.9, 1],\n",
        "    'gamma': [0, 0.1, 0.2, 0.3, 0.4, 0.5],\n",
        "    'min_child_weight': np.arange(1, 10, 1)\n",
        "}\n",
        "\n",
        "# Instantiate the model\n",
        "xgb = XGBClassifier(objective='multi:softmax', num_class=3)\n",
        "\n",
        "# Create the RandomizedSearchCV object\n",
        "random_search_xgb = RandomizedSearchCV(\n",
        "    xgb, \n",
        "    param_distributions=param_dist, \n",
        "    n_iter=100, \n",
        "    scoring='accuracy', \n",
        "    cv=5, \n",
        "    verbose=1, \n",
        "    n_jobs=-1\n",
        ")\n",
        "\n",
        "# Fit the model\n",
        "random_search_xgb.fit(X_train_scaled, y_train_encoded)\n",
        "\n",
        "# Get the best parameters and estimator\n",
        "best_params_xgb = random_search_xgb.best_params_\n",
        "best_xgb = random_search_xgb.best_estimator_\n",
        "\n",
        "print(\"Best Parameters:\", best_params_xgb)\n"
      ]
    },
    {
      "cell_type": "code",
      "execution_count": 42,
      "id": "3f219c81",
      "metadata": {},
      "outputs": [
        {
          "name": "stdout",
          "output_type": "stream",
          "text": [
            "Best Params XGBoost Accuracy: 82.13%\n",
            "\n",
            "Classification Report:\n",
            "               precision    recall  f1-score   support\n",
            "\n",
            "      Deluxe       0.51      0.06      0.11      1743\n",
            "      Luxury       0.88      0.88      0.88     11514\n",
            "    Standard       0.78      0.89      0.83     10800\n",
            "\n",
            "    accuracy                           0.82     24057\n",
            "   macro avg       0.72      0.61      0.60     24057\n",
            "weighted avg       0.80      0.82      0.80     24057\n",
            "\n"
          ]
        }
      ],
      "source": [
        "# Train the best XGBoost model on the entire training dataset\n",
        "best_xgb.fit(X_train_scaled, y_train_encoded)\n",
        "\n",
        "# Make predictions on the test data\n",
        "y_pred = best_xgb.predict(X_test_scaled)\n",
        "\n",
        "\n",
        "# Evaluate the model\n",
        "accuracy = accuracy_score(y_test_encoded, y_pred)\n",
        "print(f\"Best Params XGBoost Accuracy: {accuracy*100:.2f}%\")\n",
        "print(\"\\nClassification Report:\\n\", classification_report(y_test_encoded, y_pred, target_names=label_encoder.classes_))\n"
      ]
    },
    {
      "cell_type": "markdown",
      "id": "d832cd23",
      "metadata": {},
      "source": [
        "In our use case, we are trying to predict the ticket type potential customers will purchase and aim to customise the experiences and amenities, hence we will evaluate the models based on the precision score, since having false positives will incur unneccessary costs for the business strategies. \n",
        "\n",
        "Based on the precision scores, we will pick the better model, Random Forest, with overall higher precision score for all 3 ticket types. "
      ]
    },
    {
      "cell_type": "markdown",
      "id": "95414164",
      "metadata": {},
      "source": [
        "### Feature Importance"
      ]
    },
    {
      "cell_type": "code",
      "execution_count": 37,
      "id": "f8dfe431-093c-416d-b9a0-12159d7429f1",
      "metadata": {
        "ExecuteTime": {
          "end_time": "2023-09-17T04:34:02.071697+00:00",
          "start_time": "2023-09-17T04:33:58.228183+00:00"
        },
        "datalink": {
          "cdf4d139-df00-4216-9068-08c12de8cc4d": {
            "applied_filters": [],
            "dataframe_info": {
              "default_index_used": true,
              "orig_num_cols": 2,
              "orig_num_rows": 10,
              "orig_size_bytes": 240,
              "truncated_num_cols": 2,
              "truncated_num_rows": 10,
              "truncated_size_bytes": 240,
              "truncated_string_columns": []
            },
            "display_id": "cdf4d139-df00-4216-9068-08c12de8cc4d",
            "dx_settings": {
              "ALLOW_NOTEABLE_ATTRS": true,
              "COLUMN_SAMPLING_METHOD": "outer",
              "DB_LOCATION": ":memory:",
              "DEV_MODE": false,
              "DISPLAY_MAX_COLUMNS": 100,
              "DISPLAY_MAX_ROWS": 50000,
              "DISPLAY_MODE": "simple",
              "ENABLE_ASSIGNMENT": true,
              "ENABLE_DATALINK": true,
              "FLATTEN_COLUMN_VALUES": true,
              "FLATTEN_INDEX_VALUES": false,
              "GENERATE_DEX_METADATA": false,
              "HTML_TABLE_SCHEMA": false,
              "LOG_LEVEL": 30,
              "MAX_RENDER_SIZE_BYTES": 104857600,
              "MAX_STRING_LENGTH": 250,
              "NUM_PAST_SAMPLES_TRACKED": 3,
              "RANDOM_STATE": 12648430,
              "RESET_INDEX_VALUES": false,
              "ROW_SAMPLING_METHOD": "random",
              "SAMPLING_FACTOR": 0.1,
              "SAMPLING_METHOD": "random",
              "STRINGIFY_COLUMN_VALUES": true,
              "STRINGIFY_INDEX_VALUES": false
            },
            "sample_history": [],
            "sampling_time": "2023-09-17T04:34:01.908592",
            "user_variable_name": null,
            "variable_name": "unk_dataframe_14f83b8bb9da413a8a05f3fa97a84134"
          }
        },
        "dx": {
          "fieldMetadata": {},
          "simpleTable": true,
          "updated": 1694925245830,
          "views": []
        },
        "noteable": {
          "cell_type": "code",
          "output_collection_id": "60bde279-acf4-41ce-9afd-08f4297d9f16"
        }
      },
      "outputs": [
        {
          "data": {
            "text/html": [
              "<div>\n",
              "<style scoped>\n",
              "    .dataframe tbody tr th:only-of-type {\n",
              "        vertical-align: middle;\n",
              "    }\n",
              "\n",
              "    .dataframe tbody tr th {\n",
              "        vertical-align: top;\n",
              "    }\n",
              "\n",
              "    .dataframe thead th {\n",
              "        text-align: right;\n",
              "    }\n",
              "</style>\n",
              "<table border=\"1\" class=\"dataframe\">\n",
              "  <thead>\n",
              "    <tr style=\"text-align: right;\">\n",
              "      <th></th>\n",
              "      <th>Feature</th>\n",
              "      <th>Importance</th>\n",
              "    </tr>\n",
              "  </thead>\n",
              "  <tbody>\n",
              "    <tr>\n",
              "      <th>13</th>\n",
              "      <td>Age</td>\n",
              "      <td>0.139612</td>\n",
              "    </tr>\n",
              "    <tr>\n",
              "      <th>5</th>\n",
              "      <td>Online Check-in</td>\n",
              "      <td>0.110819</td>\n",
              "    </tr>\n",
              "    <tr>\n",
              "      <th>1</th>\n",
              "      <td>Embarkation/Disembarkation time convenient</td>\n",
              "      <td>0.076618</td>\n",
              "    </tr>\n",
              "    <tr>\n",
              "      <th>0</th>\n",
              "      <td>Onboard Wifi Service</td>\n",
              "      <td>0.076221</td>\n",
              "    </tr>\n",
              "    <tr>\n",
              "      <th>3</th>\n",
              "      <td>Gate location</td>\n",
              "      <td>0.061858</td>\n",
              "    </tr>\n",
              "    <tr>\n",
              "      <th>8</th>\n",
              "      <td>Cabin service</td>\n",
              "      <td>0.061613</td>\n",
              "    </tr>\n",
              "    <tr>\n",
              "      <th>9</th>\n",
              "      <td>Baggage handling</td>\n",
              "      <td>0.057985</td>\n",
              "    </tr>\n",
              "    <tr>\n",
              "      <th>2</th>\n",
              "      <td>Ease of Online booking</td>\n",
              "      <td>0.056662</td>\n",
              "    </tr>\n",
              "    <tr>\n",
              "      <th>11</th>\n",
              "      <td>Onboard Service</td>\n",
              "      <td>0.055813</td>\n",
              "    </tr>\n",
              "    <tr>\n",
              "      <th>7</th>\n",
              "      <td>Onboard Entertainment</td>\n",
              "      <td>0.053786</td>\n",
              "    </tr>\n",
              "  </tbody>\n",
              "</table>\n",
              "</div>"
            ],
            "text/plain": [
              "                                       Feature  Importance\n",
              "13                                         Age    0.139612\n",
              "5                              Online Check-in    0.110819\n",
              "1   Embarkation/Disembarkation time convenient    0.076618\n",
              "0                         Onboard Wifi Service    0.076221\n",
              "3                                Gate location    0.061858\n",
              "8                                Cabin service    0.061613\n",
              "9                             Baggage handling    0.057985\n",
              "2                       Ease of Online booking    0.056662\n",
              "11                             Onboard Service    0.055813\n",
              "7                        Onboard Entertainment    0.053786"
            ]
          },
          "execution_count": 37,
          "metadata": {},
          "output_type": "execute_result"
        }
      ],
      "source": [
        "# Extracting feature importances from the trained XGBoost model\n",
        "feature_importances = rf_best.feature_importances_\n",
        "features = X_train.columns\n",
        "\n",
        "# Creating a DataFrame to display the feature importances\n",
        "importance_df = pd.DataFrame({'Feature': features, 'Importance': feature_importances})\n",
        "importance_df = importance_df.sort_values(by='Importance', ascending=False)\n",
        "\n",
        "# Displaying the top features based on their importance\n",
        "importance_df.head(10)"
      ]
    },
    {
      "cell_type": "markdown",
      "id": "c6b3a02f",
      "metadata": {},
      "source": [
        "# Creating a Pipeline to train entire set of data with chosen models and prepare for Deployment"
      ]
    },
    {
      "cell_type": "code",
      "execution_count": 38,
      "id": "2b8812fc-72c8-448d-aeb4-23ae566e79e8",
      "metadata": {
        "ExecuteTime": {
          "end_time": "2023-09-17T05:19:32.332364+00:00",
          "start_time": "2023-09-17T05:18:54.138878+00:00"
        },
        "noteable": {
          "cell_type": "code",
          "output_collection_id": "396b27da-4ad0-4218-80b5-c0272687452f"
        }
      },
      "outputs": [],
      "source": [
        "from sklearn.base import BaseEstimator, TransformerMixin\n",
        "from sklearn.compose import ColumnTransformer\n",
        "from sklearn.pipeline import Pipeline\n",
        "import pickle\n",
        "import json\n",
        "\n",
        "# Custom transformer for target encoding\n",
        "class TargetEncoder(BaseEstimator, TransformerMixin):\n",
        "    def __init__(self):\n",
        "        self.label_encoder = LabelEncoder()\n",
        "\n",
        "    def fit(self, y):\n",
        "        self.label_encoder.fit(y)\n",
        "        return self\n",
        "\n",
        "    def transform(self, y):\n",
        "        return self.label_encoder.transform(y)\n",
        "\n",
        "    def inverse_transform(self, y_encoded):\n",
        "        return self.label_encoder.inverse_transform(y_encoded)\n",
        "\n",
        "\n",
        "\n",
        "# Load configuration from JSON file\n",
        "with open('config.json', 'r', encoding='utf-8') as file:\n",
        "    config = json.load(file)\n",
        "\n",
        "# Define the classifier based on the configuration\n",
        "if config['classifier'] == 'xgboost':\n",
        "    classifier = XGBClassifier(**config['xgboost'])\n",
        "elif config['classifier'] == 'random_forest':\n",
        "    classifier = RandomForestClassifier(**config['random_forest'])\n",
        "else:\n",
        "    raise ValueError(f\"Unknown classifier: {config['classifier']}\")\n",
        "\n",
        "# Define the feature transformer (in this case, just scaling)\n",
        "feature_transformer = ColumnTransformer(\n",
        "    transformers=[\n",
        "        ('scaler', RobustScaler(), list(X_train.columns))\n",
        "    ],\n",
        "    remainder='passthrough'\n",
        ")\n",
        "\n",
        "# Create the full pipeline\n",
        "pipeline = Pipeline([\n",
        "    ('features', feature_transformer),\n",
        "    ('classifier', classifier)\n",
        "])\n",
        "\n",
        "# Combine the training and test sets\n",
        "X_combined = pd.concat([X_train, X_test])\n",
        "y_combined = pd.concat([y_train, y_test])\n",
        "\n",
        "# Fit the target encoder\n",
        "target_encoder = TargetEncoder()\n",
        "y_combined_encoded = target_encoder.fit_transform(y_combined)\n",
        "\n",
        "# Fit the pipeline\n",
        "pipeline.fit(X_combined, y_combined_encoded)\n",
        "\n",
        "# Serialize and save the pipeline and target encoder\n",
        "with open('model_pipeline.pkl', 'wb') as pipeline_file:\n",
        "    pickle.dump(pipeline, pipeline_file)\n",
        "\n",
        "with open('target_encoder.pkl', 'wb') as encoder_file:\n",
        "    pickle.dump(target_encoder, encoder_file)\n"
      ]
    },
    {
      "cell_type": "code",
      "execution_count": 39,
      "id": "ff596114-0a62-4ec2-95e4-b99eeebb7387",
      "metadata": {
        "jupyter": {
          "outputs_hidden": false,
          "source_hidden": false
        },
        "noteable": {
          "cell_type": "code"
        }
      },
      "outputs": [
        {
          "name": "stdout",
          "output_type": "stream",
          "text": [
            "Note: you may need to restart the kernel to use updated packages.\n"
          ]
        }
      ],
      "source": [
        "pip freeze > requirements.txt"
      ]
    },
    {
      "cell_type": "code",
      "execution_count": null,
      "id": "ff6101df",
      "metadata": {},
      "outputs": [],
      "source": []
    }
  ],
  "metadata": {
    "kernel_info": {
      "name": "python3"
    },
    "kernelspec": {
      "display_name": "Python 3.9",
      "language": "python",
      "name": "python3"
    },
    "language_info": {
      "codemirror_mode": {
        "name": "ipython",
        "version": 3
      },
      "file_extension": ".py",
      "mimetype": "text/x-python",
      "name": "python",
      "nbconvert_exporter": "python",
      "pygments_lexer": "ipython3",
      "version": "3.10.0"
    },
    "noteable-chatgpt": {
      "create_notebook": {
        "openai_conversation_id": "3dccb683-521e-517e-9fb2-de90d0844089",
        "openai_ephemeral_user_id": "68ae520b-c855-5a97-8dbd-da84f3d75d7b"
      }
    },
    "selected_hardware_size": "small"
  },
  "nbformat": 4,
  "nbformat_minor": 5
}
